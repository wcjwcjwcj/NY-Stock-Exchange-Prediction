{
 "cells": [
  {
   "cell_type": "markdown",
   "metadata": {},
   "source": [
    "## Import Libraries"
   ]
  },
  {
   "cell_type": "code",
   "execution_count": 1,
   "metadata": {},
   "outputs": [
    {
     "name": "stdout",
     "output_type": "stream",
     "text": [
      "Requirement already satisfied: tensorflow in c:\\programdata\\anaconda3\\lib\\site-packages (2.3.1)\n",
      "Requirement already satisfied: astunparse==1.6.3 in c:\\programdata\\anaconda3\\lib\\site-packages (from tensorflow) (1.6.3)\n",
      "Requirement already satisfied: wrapt>=1.11.1 in c:\\programdata\\anaconda3\\lib\\site-packages (from tensorflow) (1.11.2)\n",
      "Requirement already satisfied: tensorflow-estimator<2.4.0,>=2.3.0 in c:\\programdata\\anaconda3\\lib\\site-packages (from tensorflow) (2.3.0)\n",
      "Requirement already satisfied: wheel>=0.26 in c:\\programdata\\anaconda3\\lib\\site-packages (from tensorflow) (0.34.2)\n",
      "Requirement already satisfied: tensorboard<3,>=2.3.0 in c:\\programdata\\anaconda3\\lib\\site-packages (from tensorflow) (2.3.0)\n",
      "Requirement already satisfied: absl-py>=0.7.0 in c:\\programdata\\anaconda3\\lib\\site-packages (from tensorflow) (0.11.0)\n",
      "Requirement already satisfied: keras-preprocessing<1.2,>=1.1.1 in c:\\programdata\\anaconda3\\lib\\site-packages (from tensorflow) (1.1.2)\n",
      "Requirement already satisfied: grpcio>=1.8.6 in c:\\programdata\\anaconda3\\lib\\site-packages (from tensorflow) (1.33.2)\n",
      "Requirement already satisfied: six>=1.12.0 in c:\\programdata\\anaconda3\\lib\\site-packages (from tensorflow) (1.15.0)\n",
      "Requirement already satisfied: h5py<2.11.0,>=2.10.0 in c:\\programdata\\anaconda3\\lib\\site-packages (from tensorflow) (2.10.0)\n",
      "Requirement already satisfied: termcolor>=1.1.0 in c:\\programdata\\anaconda3\\lib\\site-packages (from tensorflow) (1.1.0)\n",
      "Requirement already satisfied: numpy<1.19.0,>=1.16.0 in c:\\programdata\\anaconda3\\lib\\site-packages (from tensorflow) (1.18.5)\n",
      "Requirement already satisfied: opt-einsum>=2.3.2 in c:\\programdata\\anaconda3\\lib\\site-packages (from tensorflow) (3.3.0)\n",
      "Requirement already satisfied: google-pasta>=0.1.8 in c:\\programdata\\anaconda3\\lib\\site-packages (from tensorflow) (0.2.0)\n",
      "Requirement already satisfied: protobuf>=3.9.2 in c:\\programdata\\anaconda3\\lib\\site-packages (from tensorflow) (3.13.0)\n",
      "Requirement already satisfied: gast==0.3.3 in c:\\programdata\\anaconda3\\lib\\site-packages (from tensorflow) (0.3.3)\n",
      "Requirement already satisfied: werkzeug>=0.11.15 in c:\\programdata\\anaconda3\\lib\\site-packages (from tensorboard<3,>=2.3.0->tensorflow) (1.0.1)\n",
      "Requirement already satisfied: setuptools>=41.0.0 in c:\\programdata\\anaconda3\\lib\\site-packages (from tensorboard<3,>=2.3.0->tensorflow) (49.2.0.post20200714)\n",
      "Requirement already satisfied: tensorboard-plugin-wit>=1.6.0 in c:\\programdata\\anaconda3\\lib\\site-packages (from tensorboard<3,>=2.3.0->tensorflow) (1.7.0)\n",
      "Requirement already satisfied: requests<3,>=2.21.0 in c:\\programdata\\anaconda3\\lib\\site-packages (from tensorboard<3,>=2.3.0->tensorflow) (2.24.0)\n",
      "Requirement already satisfied: google-auth<2,>=1.6.3 in c:\\programdata\\anaconda3\\lib\\site-packages (from tensorboard<3,>=2.3.0->tensorflow) (1.23.0)\n",
      "Requirement already satisfied: markdown>=2.6.8 in c:\\programdata\\anaconda3\\lib\\site-packages (from tensorboard<3,>=2.3.0->tensorflow) (3.3.3)\n",
      "Requirement already satisfied: google-auth-oauthlib<0.5,>=0.4.1 in c:\\programdata\\anaconda3\\lib\\site-packages (from tensorboard<3,>=2.3.0->tensorflow) (0.4.2)\n",
      "Requirement already satisfied: certifi>=2017.4.17 in c:\\programdata\\anaconda3\\lib\\site-packages (from requests<3,>=2.21.0->tensorboard<3,>=2.3.0->tensorflow) (2020.6.20)\n",
      "Requirement already satisfied: idna<3,>=2.5 in c:\\programdata\\anaconda3\\lib\\site-packages (from requests<3,>=2.21.0->tensorboard<3,>=2.3.0->tensorflow) (2.10)\n",
      "Requirement already satisfied: urllib3!=1.25.0,!=1.25.1,<1.26,>=1.21.1 in c:\\programdata\\anaconda3\\lib\\site-packages (from requests<3,>=2.21.0->tensorboard<3,>=2.3.0->tensorflow) (1.25.9)\n",
      "Requirement already satisfied: chardet<4,>=3.0.2 in c:\\programdata\\anaconda3\\lib\\site-packages (from requests<3,>=2.21.0->tensorboard<3,>=2.3.0->tensorflow) (3.0.4)\n",
      "Requirement already satisfied: cachetools<5.0,>=2.0.0 in c:\\programdata\\anaconda3\\lib\\site-packages (from google-auth<2,>=1.6.3->tensorboard<3,>=2.3.0->tensorflow) (4.1.1)\n",
      "Requirement already satisfied: pyasn1-modules>=0.2.1 in c:\\programdata\\anaconda3\\lib\\site-packages (from google-auth<2,>=1.6.3->tensorboard<3,>=2.3.0->tensorflow) (0.2.8)\n",
      "Requirement already satisfied: rsa<5,>=3.1.4; python_version >= \"3.5\" in c:\\programdata\\anaconda3\\lib\\site-packages (from google-auth<2,>=1.6.3->tensorboard<3,>=2.3.0->tensorflow) (4.6)\n",
      "Requirement already satisfied: requests-oauthlib>=0.7.0 in c:\\programdata\\anaconda3\\lib\\site-packages (from google-auth-oauthlib<0.5,>=0.4.1->tensorboard<3,>=2.3.0->tensorflow) (1.3.0)\n",
      "Requirement already satisfied: pyasn1<0.5.0,>=0.4.6 in c:\\programdata\\anaconda3\\lib\\site-packages (from pyasn1-modules>=0.2.1->google-auth<2,>=1.6.3->tensorboard<3,>=2.3.0->tensorflow) (0.4.8)\n",
      "Requirement already satisfied: oauthlib>=3.0.0 in c:\\programdata\\anaconda3\\lib\\site-packages (from requests-oauthlib>=0.7.0->google-auth-oauthlib<0.5,>=0.4.1->tensorboard<3,>=2.3.0->tensorflow) (3.1.0)\n",
      "Note: you may need to restart the kernel to use updated packages.\n"
     ]
    }
   ],
   "source": [
    "pip install tensorflow"
   ]
  },
  {
   "cell_type": "code",
   "execution_count": 2,
   "metadata": {},
   "outputs": [],
   "source": [
    "import numpy as np\n",
    "import pandas as pd\n",
    "import time\n",
    "import matplotlib.pyplot as plt\n",
    "from sklearn.preprocessing import MinMaxScaler\n",
    "from tensorflow.keras.models import Sequential\n",
    "from tensorflow.keras.layers import Dropout, Dense, LSTM\n",
    "from pylab import rcParams"
   ]
  },
  {
   "cell_type": "markdown",
   "metadata": {},
   "source": [
    "### Company selection"
   ]
  },
  {
   "cell_type": "code",
   "execution_count": 3,
   "metadata": {},
   "outputs": [
    {
     "data": {
      "text/html": [
       "<div>\n",
       "<style scoped>\n",
       "    .dataframe tbody tr th:only-of-type {\n",
       "        vertical-align: middle;\n",
       "    }\n",
       "\n",
       "    .dataframe tbody tr th {\n",
       "        vertical-align: top;\n",
       "    }\n",
       "\n",
       "    .dataframe thead th {\n",
       "        text-align: right;\n",
       "    }\n",
       "</style>\n",
       "<table border=\"1\" class=\"dataframe\">\n",
       "  <thead>\n",
       "    <tr style=\"text-align: right;\">\n",
       "      <th></th>\n",
       "      <th>Ticker symbol</th>\n",
       "      <th>Security</th>\n",
       "      <th>SEC filings</th>\n",
       "      <th>GICS Sector</th>\n",
       "      <th>GICS Sub Industry</th>\n",
       "      <th>Address of Headquarters</th>\n",
       "      <th>Date first added</th>\n",
       "      <th>CIK</th>\n",
       "    </tr>\n",
       "  </thead>\n",
       "  <tbody>\n",
       "    <tr>\n",
       "      <th>0</th>\n",
       "      <td>MMM</td>\n",
       "      <td>3M Company</td>\n",
       "      <td>reports</td>\n",
       "      <td>Industrials</td>\n",
       "      <td>Industrial Conglomerates</td>\n",
       "      <td>St. Paul, Minnesota</td>\n",
       "      <td>NaN</td>\n",
       "      <td>66740</td>\n",
       "    </tr>\n",
       "    <tr>\n",
       "      <th>1</th>\n",
       "      <td>ABT</td>\n",
       "      <td>Abbott Laboratories</td>\n",
       "      <td>reports</td>\n",
       "      <td>Health Care</td>\n",
       "      <td>Health Care Equipment</td>\n",
       "      <td>North Chicago, Illinois</td>\n",
       "      <td>1964-03-31</td>\n",
       "      <td>1800</td>\n",
       "    </tr>\n",
       "    <tr>\n",
       "      <th>2</th>\n",
       "      <td>ABBV</td>\n",
       "      <td>AbbVie</td>\n",
       "      <td>reports</td>\n",
       "      <td>Health Care</td>\n",
       "      <td>Pharmaceuticals</td>\n",
       "      <td>North Chicago, Illinois</td>\n",
       "      <td>2012-12-31</td>\n",
       "      <td>1551152</td>\n",
       "    </tr>\n",
       "    <tr>\n",
       "      <th>3</th>\n",
       "      <td>ACN</td>\n",
       "      <td>Accenture plc</td>\n",
       "      <td>reports</td>\n",
       "      <td>Information Technology</td>\n",
       "      <td>IT Consulting &amp; Other Services</td>\n",
       "      <td>Dublin, Ireland</td>\n",
       "      <td>2011-07-06</td>\n",
       "      <td>1467373</td>\n",
       "    </tr>\n",
       "    <tr>\n",
       "      <th>4</th>\n",
       "      <td>ATVI</td>\n",
       "      <td>Activision Blizzard</td>\n",
       "      <td>reports</td>\n",
       "      <td>Information Technology</td>\n",
       "      <td>Home Entertainment Software</td>\n",
       "      <td>Santa Monica, California</td>\n",
       "      <td>2015-08-31</td>\n",
       "      <td>718877</td>\n",
       "    </tr>\n",
       "  </tbody>\n",
       "</table>\n",
       "</div>"
      ],
      "text/plain": [
       "  Ticker symbol             Security SEC filings             GICS Sector  \\\n",
       "0           MMM           3M Company     reports             Industrials   \n",
       "1           ABT  Abbott Laboratories     reports             Health Care   \n",
       "2          ABBV               AbbVie     reports             Health Care   \n",
       "3           ACN        Accenture plc     reports  Information Technology   \n",
       "4          ATVI  Activision Blizzard     reports  Information Technology   \n",
       "\n",
       "                GICS Sub Industry   Address of Headquarters Date first added  \\\n",
       "0        Industrial Conglomerates       St. Paul, Minnesota              NaN   \n",
       "1           Health Care Equipment   North Chicago, Illinois       1964-03-31   \n",
       "2                 Pharmaceuticals   North Chicago, Illinois       2012-12-31   \n",
       "3  IT Consulting & Other Services           Dublin, Ireland       2011-07-06   \n",
       "4     Home Entertainment Software  Santa Monica, California       2015-08-31   \n",
       "\n",
       "       CIK  \n",
       "0    66740  \n",
       "1     1800  \n",
       "2  1551152  \n",
       "3  1467373  \n",
       "4   718877  "
      ]
     },
     "execution_count": 3,
     "metadata": {},
     "output_type": "execute_result"
    }
   ],
   "source": [
    "comp = pd.read_csv('securities.csv')\n",
    "comp.head()"
   ]
  },
  {
   "cell_type": "markdown",
   "metadata": {},
   "source": [
    "As referred in report, 5 companies in the airline industry are selected: American Airlines Group, Southwest Airlines, United Continental Holdings, Delta Air Lines, and Alaska Air Group Inc. "
   ]
  },
  {
   "cell_type": "code",
   "execution_count": 4,
   "metadata": {},
   "outputs": [
    {
     "name": "stdout",
     "output_type": "stream",
     "text": [
      "    Ticker symbol\n",
      "15            ALK\n",
      "28            AAL\n",
      "137           DAL\n",
      "411           LUV\n",
      "458           UAL\n"
     ]
    }
   ],
   "source": [
    "##find corresponding symbol for each company in the order A-Z\n",
    "comp_5 = comp.loc[(comp['Security'] == 'Alaska Air Group Inc') | \n",
    "                  (comp['Security'] == 'American Airlines Group') | \n",
    "                  (comp['Security'] == 'Delta Air Lines') | \n",
    "                  (comp['Security'] == 'Southwest Airlines') | \n",
    "                  (comp['Security'] == 'United Continental Holdings'), ['Ticker symbol']]\n",
    "print(comp_5)\n"
   ]
  },
  {
   "cell_type": "markdown",
   "metadata": {},
   "source": [
    "## Read Data"
   ]
  },
  {
   "cell_type": "code",
   "execution_count": 5,
   "metadata": {},
   "outputs": [],
   "source": [
    "df = pd.read_csv('prices-split-adjusted.csv')"
   ]
  },
  {
   "cell_type": "code",
   "execution_count": 6,
   "metadata": {},
   "outputs": [
    {
     "data": {
      "text/html": [
       "<div>\n",
       "<style scoped>\n",
       "    .dataframe tbody tr th:only-of-type {\n",
       "        vertical-align: middle;\n",
       "    }\n",
       "\n",
       "    .dataframe tbody tr th {\n",
       "        vertical-align: top;\n",
       "    }\n",
       "\n",
       "    .dataframe thead th {\n",
       "        text-align: right;\n",
       "    }\n",
       "</style>\n",
       "<table border=\"1\" class=\"dataframe\">\n",
       "  <thead>\n",
       "    <tr style=\"text-align: right;\">\n",
       "      <th></th>\n",
       "      <th>date</th>\n",
       "      <th>symbol</th>\n",
       "      <th>open</th>\n",
       "      <th>close</th>\n",
       "      <th>low</th>\n",
       "      <th>high</th>\n",
       "      <th>volume</th>\n",
       "    </tr>\n",
       "  </thead>\n",
       "  <tbody>\n",
       "    <tr>\n",
       "      <th>0</th>\n",
       "      <td>2016-01-05</td>\n",
       "      <td>WLTW</td>\n",
       "      <td>123.43</td>\n",
       "      <td>125.84</td>\n",
       "      <td>122.31</td>\n",
       "      <td>126.25</td>\n",
       "      <td>2163600.0</td>\n",
       "    </tr>\n",
       "    <tr>\n",
       "      <th>1</th>\n",
       "      <td>2016-01-06</td>\n",
       "      <td>WLTW</td>\n",
       "      <td>125.24</td>\n",
       "      <td>119.98</td>\n",
       "      <td>119.94</td>\n",
       "      <td>125.54</td>\n",
       "      <td>2386400.0</td>\n",
       "    </tr>\n",
       "    <tr>\n",
       "      <th>2</th>\n",
       "      <td>2016-01-07</td>\n",
       "      <td>WLTW</td>\n",
       "      <td>116.38</td>\n",
       "      <td>114.95</td>\n",
       "      <td>114.93</td>\n",
       "      <td>119.74</td>\n",
       "      <td>2489500.0</td>\n",
       "    </tr>\n",
       "    <tr>\n",
       "      <th>3</th>\n",
       "      <td>2016-01-08</td>\n",
       "      <td>WLTW</td>\n",
       "      <td>115.48</td>\n",
       "      <td>116.62</td>\n",
       "      <td>113.50</td>\n",
       "      <td>117.44</td>\n",
       "      <td>2006300.0</td>\n",
       "    </tr>\n",
       "    <tr>\n",
       "      <th>4</th>\n",
       "      <td>2016-01-11</td>\n",
       "      <td>WLTW</td>\n",
       "      <td>117.01</td>\n",
       "      <td>114.97</td>\n",
       "      <td>114.09</td>\n",
       "      <td>117.33</td>\n",
       "      <td>1408600.0</td>\n",
       "    </tr>\n",
       "  </tbody>\n",
       "</table>\n",
       "</div>"
      ],
      "text/plain": [
       "         date symbol    open   close     low    high     volume\n",
       "0  2016-01-05   WLTW  123.43  125.84  122.31  126.25  2163600.0\n",
       "1  2016-01-06   WLTW  125.24  119.98  119.94  125.54  2386400.0\n",
       "2  2016-01-07   WLTW  116.38  114.95  114.93  119.74  2489500.0\n",
       "3  2016-01-08   WLTW  115.48  116.62  113.50  117.44  2006300.0\n",
       "4  2016-01-11   WLTW  117.01  114.97  114.09  117.33  1408600.0"
      ]
     },
     "execution_count": 6,
     "metadata": {},
     "output_type": "execute_result"
    }
   ],
   "source": [
    "df.head().round(3)"
   ]
  },
  {
   "cell_type": "code",
   "execution_count": 7,
   "metadata": {},
   "outputs": [
    {
     "name": "stdout",
     "output_type": "stream",
     "text": [
      "(851264, 7)\n"
     ]
    }
   ],
   "source": [
    "#check the shape of loaded dataset\n",
    "print(df.shape)"
   ]
  },
  {
   "cell_type": "markdown",
   "metadata": {},
   "source": [
    "### check data quality"
   ]
  },
  {
   "cell_type": "markdown",
   "metadata": {},
   "source": [
    "Find out if there are missing data:"
   ]
  },
  {
   "cell_type": "code",
   "execution_count": 8,
   "metadata": {},
   "outputs": [
    {
     "name": "stdout",
     "output_type": "stream",
     "text": [
      "<class 'pandas.core.frame.DataFrame'>\n",
      "RangeIndex: 851264 entries, 0 to 851263\n",
      "Data columns (total 7 columns):\n",
      " #   Column  Non-Null Count   Dtype  \n",
      "---  ------  --------------   -----  \n",
      " 0   date    851264 non-null  object \n",
      " 1   symbol  851264 non-null  object \n",
      " 2   open    851264 non-null  float64\n",
      " 3   close   851264 non-null  float64\n",
      " 4   low     851264 non-null  float64\n",
      " 5   high    851264 non-null  float64\n",
      " 6   volume  851264 non-null  float64\n",
      "dtypes: float64(5), object(2)\n",
      "memory usage: 45.5+ MB\n"
     ]
    }
   ],
   "source": [
    "#there are no missing data. \n",
    "df.info()"
   ]
  },
  {
   "cell_type": "code",
   "execution_count": 9,
   "metadata": {},
   "outputs": [
    {
     "data": {
      "text/html": [
       "<div>\n",
       "<style scoped>\n",
       "    .dataframe tbody tr th:only-of-type {\n",
       "        vertical-align: middle;\n",
       "    }\n",
       "\n",
       "    .dataframe tbody tr th {\n",
       "        vertical-align: top;\n",
       "    }\n",
       "\n",
       "    .dataframe thead th {\n",
       "        text-align: right;\n",
       "    }\n",
       "</style>\n",
       "<table border=\"1\" class=\"dataframe\">\n",
       "  <thead>\n",
       "    <tr style=\"text-align: right;\">\n",
       "      <th></th>\n",
       "      <th>date</th>\n",
       "      <th>symbol</th>\n",
       "      <th>open</th>\n",
       "      <th>close</th>\n",
       "      <th>low</th>\n",
       "      <th>high</th>\n",
       "      <th>volume</th>\n",
       "    </tr>\n",
       "  </thead>\n",
       "  <tbody>\n",
       "  </tbody>\n",
       "</table>\n",
       "</div>"
      ],
      "text/plain": [
       "Empty DataFrame\n",
       "Columns: [date, symbol, open, close, low, high, volume]\n",
       "Index: []"
      ]
     },
     "execution_count": 9,
     "metadata": {},
     "output_type": "execute_result"
    }
   ],
   "source": [
    "df[df.isnull().any(axis=1)]"
   ]
  },
  {
   "cell_type": "code",
   "execution_count": 10,
   "metadata": {},
   "outputs": [
    {
     "name": "stdout",
     "output_type": "stream",
     "text": [
      "number of unique symbols: 501\n",
      "first 10 unique symbols are: ['WLTW' 'A' 'AAL' 'AAP' 'AAPL' 'ABC' 'ABT' 'ACN' 'ADBE' 'ADI']\n"
     ]
    }
   ],
   "source": [
    "#find out unique symbols info\n",
    "q = df.symbol.unique()\n",
    "print(\"number of unique symbols:\", len(q))\n",
    "print(\"first 10 unique symbols are:\", q[0:10])"
   ]
  },
  {
   "cell_type": "markdown",
   "metadata": {},
   "source": [
    "## Visualization of opening and closing stock prices for each company"
   ]
  },
  {
   "cell_type": "code",
   "execution_count": 11,
   "metadata": {},
   "outputs": [],
   "source": [
    "def visualization(i):\n",
    "    company_data = df.loc[df['symbol'] == i]\n",
    "    company_data_open = np.array(company_data['open']).reshape(-1,1)\n",
    "    company_data_close = np.array(company_data['close']).reshape(-1,1)\n",
    "    plt.subplot(2, 1, 1)\n",
    "    ax = df.plot\n",
    "    plt.plot(company_data_open)\n",
    "    plt.xlabel('Time')\n",
    "    plt.ylabel(i + 'opening stock price')\n",
    "    \n",
    "    plt.subplot(2, 1, 2)\n",
    "    plt.plot(company_data_close)\n",
    "    plt.xlabel('Time')\n",
    "    plt.ylabel(i + 'closing stock price')\n",
    "    \n",
    "    plt.show()"
   ]
  },
  {
   "cell_type": "code",
   "execution_count": 12,
   "metadata": {},
   "outputs": [
    {
     "data": {
      "image/png": "[encoded data removed]",
      "text/plain": [
       "<Figure size 432x288 with 2 Axes>"
      ]
     },
     "metadata": {
      "needs_background": "light"
     },
     "output_type": "display_data"
    }
   ],
   "source": [
    "visualization('AAL')"
   ]
  },
  {
   "cell_type": "code",
   "execution_count": 13,
   "metadata": {},
   "outputs": [
    {
     "data": {
      "image/png": "[encoded data removed]",
      "text/plain": [
       "<Figure size 432x288 with 2 Axes>"
      ]
     },
     "metadata": {
      "needs_background": "light"
     },
     "output_type": "display_data"
    }
   ],
   "source": [
    "visualization('LUV')"
   ]
  },
  {
   "cell_type": "code",
   "execution_count": 14,
   "metadata": {},
   "outputs": [
    {
     "data": {
      "image/png": "[encoded data removed]",
      "text/plain": [
       "<Figure size 432x288 with 2 Axes>"
      ]
     },
     "metadata": {
      "needs_background": "light"
     },
     "output_type": "display_data"
    }
   ],
   "source": [
    "visualization('UAL')"
   ]
  },
  {
   "cell_type": "code",
   "execution_count": 15,
   "metadata": {},
   "outputs": [
    {
     "data": {
      "image/png": "[encoded data removed]",
      "text/plain": [
       "<Figure size 432x288 with 2 Axes>"
      ]
     },
     "metadata": {
      "needs_background": "light"
     },
     "output_type": "display_data"
    }
   ],
   "source": [
    "visualization('DAL')"
   ]
  },
  {
   "cell_type": "code",
   "execution_count": 16,
   "metadata": {},
   "outputs": [
    {
     "data": {
      "image/png": "[encoded data removed]",
      "text/plain": [
       "<Figure size 432x288 with 2 Axes>"
      ]
     },
     "metadata": {
      "needs_background": "light"
     },
     "output_type": "display_data"
    }
   ],
   "source": [
    "visualization('ALK')"
   ]
  },
  {
   "cell_type": "markdown",
   "metadata": {},
   "source": [
    "Above plots show that the differences between opening and closing prices are marginal, closing price is selected as explained in the report"
   ]
  },
  {
   "cell_type": "markdown",
   "metadata": {},
   "source": [
    "To better visualize the stock price over time, adjust the x-axis to date format"
   ]
  },
  {
   "cell_type": "code",
   "execution_count": 17,
   "metadata": {
    "scrolled": true
   },
   "outputs": [
    {
     "data": {
      "text/html": [
       "<div>\n",
       "<style scoped>\n",
       "    .dataframe tbody tr th:only-of-type {\n",
       "        vertical-align: middle;\n",
       "    }\n",
       "\n",
       "    .dataframe tbody tr th {\n",
       "        vertical-align: top;\n",
       "    }\n",
       "\n",
       "    .dataframe thead th {\n",
       "        text-align: right;\n",
       "    }\n",
       "</style>\n",
       "<table border=\"1\" class=\"dataframe\">\n",
       "  <thead>\n",
       "    <tr style=\"text-align: right;\">\n",
       "      <th></th>\n",
       "      <th>date</th>\n",
       "      <th>symbol</th>\n",
       "      <th>open</th>\n",
       "      <th>close</th>\n",
       "      <th>low</th>\n",
       "      <th>high</th>\n",
       "      <th>volume</th>\n",
       "      <th>month</th>\n",
       "    </tr>\n",
       "  </thead>\n",
       "  <tbody>\n",
       "    <tr>\n",
       "      <th>0</th>\n",
       "      <td>2016-01-05</td>\n",
       "      <td>WLTW</td>\n",
       "      <td>123.430000</td>\n",
       "      <td>125.839996</td>\n",
       "      <td>122.309998</td>\n",
       "      <td>126.250000</td>\n",
       "      <td>2163600.0</td>\n",
       "      <td>1</td>\n",
       "    </tr>\n",
       "    <tr>\n",
       "      <th>1</th>\n",
       "      <td>2016-01-06</td>\n",
       "      <td>WLTW</td>\n",
       "      <td>125.239998</td>\n",
       "      <td>119.980003</td>\n",
       "      <td>119.940002</td>\n",
       "      <td>125.540001</td>\n",
       "      <td>2386400.0</td>\n",
       "      <td>1</td>\n",
       "    </tr>\n",
       "    <tr>\n",
       "      <th>2</th>\n",
       "      <td>2016-01-07</td>\n",
       "      <td>WLTW</td>\n",
       "      <td>116.379997</td>\n",
       "      <td>114.949997</td>\n",
       "      <td>114.930000</td>\n",
       "      <td>119.739998</td>\n",
       "      <td>2489500.0</td>\n",
       "      <td>1</td>\n",
       "    </tr>\n",
       "    <tr>\n",
       "      <th>3</th>\n",
       "      <td>2016-01-08</td>\n",
       "      <td>WLTW</td>\n",
       "      <td>115.480003</td>\n",
       "      <td>116.620003</td>\n",
       "      <td>113.500000</td>\n",
       "      <td>117.440002</td>\n",
       "      <td>2006300.0</td>\n",
       "      <td>1</td>\n",
       "    </tr>\n",
       "    <tr>\n",
       "      <th>4</th>\n",
       "      <td>2016-01-11</td>\n",
       "      <td>WLTW</td>\n",
       "      <td>117.010002</td>\n",
       "      <td>114.970001</td>\n",
       "      <td>114.089996</td>\n",
       "      <td>117.330002</td>\n",
       "      <td>1408600.0</td>\n",
       "      <td>1</td>\n",
       "    </tr>\n",
       "  </tbody>\n",
       "</table>\n",
       "</div>"
      ],
      "text/plain": [
       "        date symbol        open       close         low        high  \\\n",
       "0 2016-01-05   WLTW  123.430000  125.839996  122.309998  126.250000   \n",
       "1 2016-01-06   WLTW  125.239998  119.980003  119.940002  125.540001   \n",
       "2 2016-01-07   WLTW  116.379997  114.949997  114.930000  119.739998   \n",
       "3 2016-01-08   WLTW  115.480003  116.620003  113.500000  117.440002   \n",
       "4 2016-01-11   WLTW  117.010002  114.970001  114.089996  117.330002   \n",
       "\n",
       "      volume  month  \n",
       "0  2163600.0      1  \n",
       "1  2386400.0      1  \n",
       "2  2489500.0      1  \n",
       "3  2006300.0      1  \n",
       "4  1408600.0      1  "
      ]
     },
     "execution_count": 17,
     "metadata": {},
     "output_type": "execute_result"
    }
   ],
   "source": [
    "df.loc[:,'date']=pd.to_datetime(df['date'],format='%Y-%m-%d')\n",
    "df['month'] = df['date'].dt.month\n",
    "df.head()"
   ]
  },
  {
   "cell_type": "code",
   "execution_count": 18,
   "metadata": {},
   "outputs": [],
   "source": [
    "#generate table for each company\n",
    "ALK = df.loc[df['symbol'] == 'ALK']\n",
    "AAL = df.loc[df['symbol'] == 'AAL']\n",
    "DAL = df.loc[df['symbol'] == 'DAL']\n",
    "LUV = df.loc[df['symbol'] == 'LUV']\n",
    "UAL = df.loc[df['symbol'] == 'UAL']"
   ]
  },
  {
   "cell_type": "code",
   "execution_count": 19,
   "metadata": {},
   "outputs": [
    {
     "data": {
      "text/html": [
       "<div>\n",
       "<style scoped>\n",
       "    .dataframe tbody tr th:only-of-type {\n",
       "        vertical-align: middle;\n",
       "    }\n",
       "\n",
       "    .dataframe tbody tr th {\n",
       "        vertical-align: top;\n",
       "    }\n",
       "\n",
       "    .dataframe thead th {\n",
       "        text-align: right;\n",
       "    }\n",
       "</style>\n",
       "<table border=\"1\" class=\"dataframe\">\n",
       "  <thead>\n",
       "    <tr style=\"text-align: right;\">\n",
       "      <th></th>\n",
       "      <th>open</th>\n",
       "      <th>close</th>\n",
       "      <th>low</th>\n",
       "      <th>high</th>\n",
       "      <th>volume</th>\n",
       "      <th>month</th>\n",
       "    </tr>\n",
       "  </thead>\n",
       "  <tbody>\n",
       "    <tr>\n",
       "      <th>count</th>\n",
       "      <td>1762.000000</td>\n",
       "      <td>1762.000000</td>\n",
       "      <td>1762.000000</td>\n",
       "      <td>1762.000000</td>\n",
       "      <td>1.762000e+03</td>\n",
       "      <td>1762.000000</td>\n",
       "    </tr>\n",
       "    <tr>\n",
       "      <th>mean</th>\n",
       "      <td>22.489109</td>\n",
       "      <td>22.489387</td>\n",
       "      <td>22.198649</td>\n",
       "      <td>22.769098</td>\n",
       "      <td>7.711555e+06</td>\n",
       "      <td>6.549943</td>\n",
       "    </tr>\n",
       "    <tr>\n",
       "      <th>std</th>\n",
       "      <td>13.780502</td>\n",
       "      <td>13.783337</td>\n",
       "      <td>13.598771</td>\n",
       "      <td>13.954358</td>\n",
       "      <td>3.598728e+06</td>\n",
       "      <td>3.426034</td>\n",
       "    </tr>\n",
       "    <tr>\n",
       "      <th>min</th>\n",
       "      <td>7.370000</td>\n",
       "      <td>7.350000</td>\n",
       "      <td>7.150000</td>\n",
       "      <td>7.550000</td>\n",
       "      <td>1.475000e+06</td>\n",
       "      <td>1.000000</td>\n",
       "    </tr>\n",
       "    <tr>\n",
       "      <th>25%</th>\n",
       "      <td>11.380000</td>\n",
       "      <td>11.400000</td>\n",
       "      <td>11.230000</td>\n",
       "      <td>11.550000</td>\n",
       "      <td>5.458375e+06</td>\n",
       "      <td>4.000000</td>\n",
       "    </tr>\n",
       "    <tr>\n",
       "      <th>50%</th>\n",
       "      <td>13.820000</td>\n",
       "      <td>13.810000</td>\n",
       "      <td>13.690000</td>\n",
       "      <td>13.945000</td>\n",
       "      <td>7.000200e+06</td>\n",
       "      <td>7.000000</td>\n",
       "    </tr>\n",
       "    <tr>\n",
       "      <th>75%</th>\n",
       "      <td>37.457499</td>\n",
       "      <td>37.327501</td>\n",
       "      <td>36.777499</td>\n",
       "      <td>37.947501</td>\n",
       "      <td>9.006950e+06</td>\n",
       "      <td>10.000000</td>\n",
       "    </tr>\n",
       "    <tr>\n",
       "      <th>max</th>\n",
       "      <td>50.770000</td>\n",
       "      <td>50.889999</td>\n",
       "      <td>50.520000</td>\n",
       "      <td>51.340000</td>\n",
       "      <td>4.382490e+07</td>\n",
       "      <td>12.000000</td>\n",
       "    </tr>\n",
       "  </tbody>\n",
       "</table>\n",
       "</div>"
      ],
      "text/plain": [
       "              open        close          low         high        volume  \\\n",
       "count  1762.000000  1762.000000  1762.000000  1762.000000  1.762000e+03   \n",
       "mean     22.489109    22.489387    22.198649    22.769098  7.711555e+06   \n",
       "std      13.780502    13.783337    13.598771    13.954358  3.598728e+06   \n",
       "min       7.370000     7.350000     7.150000     7.550000  1.475000e+06   \n",
       "25%      11.380000    11.400000    11.230000    11.550000  5.458375e+06   \n",
       "50%      13.820000    13.810000    13.690000    13.945000  7.000200e+06   \n",
       "75%      37.457499    37.327501    36.777499    37.947501  9.006950e+06   \n",
       "max      50.770000    50.889999    50.520000    51.340000  4.382490e+07   \n",
       "\n",
       "             month  \n",
       "count  1762.000000  \n",
       "mean      6.549943  \n",
       "std       3.426034  \n",
       "min       1.000000  \n",
       "25%       4.000000  \n",
       "50%       7.000000  \n",
       "75%      10.000000  \n",
       "max      12.000000  "
      ]
     },
     "execution_count": 19,
     "metadata": {},
     "output_type": "execute_result"
    }
   ],
   "source": [
    "#view summary stats for random company\n",
    "LUV.describe()"
   ]
  },
  {
   "cell_type": "code",
   "execution_count": 20,
   "metadata": {},
   "outputs": [
    {
     "name": "stdout",
     "output_type": "stream",
     "text": [
      "<class 'pandas.core.frame.DataFrame'>\n",
      "Int64Index: 1762 entries, 516 to 851045\n",
      "Data columns (total 8 columns):\n",
      " #   Column  Non-Null Count  Dtype         \n",
      "---  ------  --------------  -----         \n",
      " 0   date    1762 non-null   datetime64[ns]\n",
      " 1   symbol  1762 non-null   object        \n",
      " 2   open    1762 non-null   float64       \n",
      " 3   close   1762 non-null   float64       \n",
      " 4   low     1762 non-null   float64       \n",
      " 5   high    1762 non-null   float64       \n",
      " 6   volume  1762 non-null   float64       \n",
      " 7   month   1762 non-null   int64         \n",
      "dtypes: datetime64[ns](1), float64(5), int64(1), object(1)\n",
      "memory usage: 123.9+ KB\n"
     ]
    }
   ],
   "source": [
    "LUV.info()"
   ]
  },
  {
   "cell_type": "markdown",
   "metadata": {},
   "source": [
    "## train and test set split"
   ]
  },
  {
   "cell_type": "code",
   "execution_count": 21,
   "metadata": {},
   "outputs": [
    {
     "name": "stdout",
     "output_type": "stream",
     "text": [
      "shape of train: (680962, 8)\n",
      "shape of test: (170302, 8)\n"
     ]
    }
   ],
   "source": [
    "##The price of the previous 50 days is used to predict the price of the next day\n",
    "#the number of test dataset should add 50\n",
    "test_size=0.2\n",
    "num_test = int(test_size*len(df))+50\n",
    "num_train = len(df) - num_test\n",
    "\n",
    "##split dataset\n",
    "train = df[:num_train]\n",
    "test = df[num_train:]\n",
    "print(\"shape of train:\",train.shape)\n",
    "print(\"shape of test:\", test.shape)"
   ]
  },
  {
   "cell_type": "code",
   "execution_count": 22,
   "metadata": {},
   "outputs": [],
   "source": [
    "##create table for each comopany\n",
    "#AAL\n",
    "AALtrain = train.loc[train['symbol'] == 'AAL']\n",
    "AALtest = test.loc[test['symbol'] == 'AAL']\n",
    "#LUV\n",
    "LUVtrain = train.loc[train['symbol'] == 'LUV']\n",
    "LUVtest = test.loc[test['symbol'] == 'LUV']\n",
    "#UAL\n",
    "UALtrain = train.loc[train['symbol'] == 'UAL']\n",
    "UALtest = test.loc[test['symbol'] == 'UAL']\n",
    "#DAL\n",
    "DALtrain = train.loc[train['symbol'] == 'DAL']\n",
    "DALtest = test.loc[test['symbol'] == 'DAL']\n",
    "#ALK\n",
    "ALKtrain = train.loc[train['symbol'] == 'ALK']\n",
    "ALKtest = test.loc[test['symbol'] == 'ALK']"
   ]
  },
  {
   "cell_type": "markdown",
   "metadata": {},
   "source": [
    "example: plot AAL train dataset close price over time"
   ]
  },
  {
   "cell_type": "code",
   "execution_count": 23,
   "metadata": {
    "scrolled": true
   },
   "outputs": [
    {
     "data": {
      "text/plain": [
       "Text(0, 0.5, 'price')"
      ]
     },
     "execution_count": 23,
     "metadata": {},
     "output_type": "execute_result"
    },
    {
     "data": {
      "image/png": "[encoded data removed]",
      "text/plain": [
       "<Figure size 720x576 with 1 Axes>"
      ]
     },
     "metadata": {
      "needs_background": "light"
     },
     "output_type": "display_data"
    }
   ],
   "source": [
    "rcParams['figure.figsize']=10, 8\n",
    "ax=AALtrain.plot(x='date', y='close', style='b-', grid=True)\n",
    "ax.set_xlabel('date')\n",
    "ax.set_ylabel('price')"
   ]
  },
  {
   "cell_type": "code",
   "execution_count": 24,
   "metadata": {},
   "outputs": [
    {
     "data": {
      "text/html": [
       "<div>\n",
       "<style scoped>\n",
       "    .dataframe tbody tr th:only-of-type {\n",
       "        vertical-align: middle;\n",
       "    }\n",
       "\n",
       "    .dataframe tbody tr th {\n",
       "        vertical-align: top;\n",
       "    }\n",
       "\n",
       "    .dataframe thead th {\n",
       "        text-align: right;\n",
       "    }\n",
       "</style>\n",
       "<table border=\"1\" class=\"dataframe\">\n",
       "  <thead>\n",
       "    <tr style=\"text-align: right;\">\n",
       "      <th></th>\n",
       "      <th>open</th>\n",
       "      <th>close</th>\n",
       "      <th>low</th>\n",
       "      <th>high</th>\n",
       "      <th>volume</th>\n",
       "      <th>month</th>\n",
       "    </tr>\n",
       "  </thead>\n",
       "  <tbody>\n",
       "    <tr>\n",
       "      <th>count</th>\n",
       "      <td>1421.000000</td>\n",
       "      <td>1421.000000</td>\n",
       "      <td>1421.000000</td>\n",
       "      <td>1421.000000</td>\n",
       "      <td>1.421000e+03</td>\n",
       "      <td>1421.000000</td>\n",
       "    </tr>\n",
       "    <tr>\n",
       "      <th>mean</th>\n",
       "      <td>17.852716</td>\n",
       "      <td>17.847213</td>\n",
       "      <td>17.619986</td>\n",
       "      <td>18.071809</td>\n",
       "      <td>7.910026e+06</td>\n",
       "      <td>6.308234</td>\n",
       "    </tr>\n",
       "    <tr>\n",
       "      <th>std</th>\n",
       "      <td>10.987154</td>\n",
       "      <td>10.978176</td>\n",
       "      <td>10.829118</td>\n",
       "      <td>11.122443</td>\n",
       "      <td>3.563757e+06</td>\n",
       "      <td>3.377952</td>\n",
       "    </tr>\n",
       "    <tr>\n",
       "      <th>min</th>\n",
       "      <td>7.370000</td>\n",
       "      <td>7.350000</td>\n",
       "      <td>7.150000</td>\n",
       "      <td>7.550000</td>\n",
       "      <td>1.475000e+06</td>\n",
       "      <td>1.000000</td>\n",
       "    </tr>\n",
       "    <tr>\n",
       "      <th>25%</th>\n",
       "      <td>10.360000</td>\n",
       "      <td>10.310000</td>\n",
       "      <td>10.240000</td>\n",
       "      <td>10.430000</td>\n",
       "      <td>5.574400e+06</td>\n",
       "      <td>3.000000</td>\n",
       "    </tr>\n",
       "    <tr>\n",
       "      <th>50%</th>\n",
       "      <td>12.880000</td>\n",
       "      <td>12.860000</td>\n",
       "      <td>12.720000</td>\n",
       "      <td>13.020000</td>\n",
       "      <td>7.259300e+06</td>\n",
       "      <td>6.000000</td>\n",
       "    </tr>\n",
       "    <tr>\n",
       "      <th>75%</th>\n",
       "      <td>23.600000</td>\n",
       "      <td>23.600000</td>\n",
       "      <td>23.280001</td>\n",
       "      <td>23.889999</td>\n",
       "      <td>9.324900e+06</td>\n",
       "      <td>9.000000</td>\n",
       "    </tr>\n",
       "    <tr>\n",
       "      <th>max</th>\n",
       "      <td>46.619999</td>\n",
       "      <td>46.990002</td>\n",
       "      <td>46.020000</td>\n",
       "      <td>47.169998</td>\n",
       "      <td>3.628340e+07</td>\n",
       "      <td>12.000000</td>\n",
       "    </tr>\n",
       "  </tbody>\n",
       "</table>\n",
       "</div>"
      ],
      "text/plain": [
       "              open        close          low         high        volume  \\\n",
       "count  1421.000000  1421.000000  1421.000000  1421.000000  1.421000e+03   \n",
       "mean     17.852716    17.847213    17.619986    18.071809  7.910026e+06   \n",
       "std      10.987154    10.978176    10.829118    11.122443  3.563757e+06   \n",
       "min       7.370000     7.350000     7.150000     7.550000  1.475000e+06   \n",
       "25%      10.360000    10.310000    10.240000    10.430000  5.574400e+06   \n",
       "50%      12.880000    12.860000    12.720000    13.020000  7.259300e+06   \n",
       "75%      23.600000    23.600000    23.280001    23.889999  9.324900e+06   \n",
       "max      46.619999    46.990002    46.020000    47.169998  3.628340e+07   \n",
       "\n",
       "             month  \n",
       "count  1421.000000  \n",
       "mean      6.308234  \n",
       "std       3.377952  \n",
       "min       1.000000  \n",
       "25%       3.000000  \n",
       "50%       6.000000  \n",
       "75%       9.000000  \n",
       "max      12.000000  "
      ]
     },
     "execution_count": 24,
     "metadata": {},
     "output_type": "execute_result"
    }
   ],
   "source": [
    "#view summary stats for random company\n",
    "LUVtrain.describe()"
   ]
  },
  {
   "cell_type": "markdown",
   "metadata": {},
   "source": [
    "### Feature Scaling"
   ]
  },
  {
   "cell_type": "code",
   "execution_count": 25,
   "metadata": {
    "scrolled": true
   },
   "outputs": [],
   "source": [
    "##normalization\n",
    "#normalization only on train data ----reason:information leaking\n",
    "scaler = MinMaxScaler(feature_range=(0, 1))\n",
    "#choose the close price to make predictions\n",
    "\n",
    "ALKtrain_data = ALKtrain[['close']].values\n",
    "ALKtrain_data = scaler.fit_transform(ALKtrain_data)\n",
    "ALKtest_data = ALKtest[['close']].values\n",
    "ALKtest_data = scaler.transform(ALKtest_data)\n",
    "\n",
    "DALtest_data = DALtest[['close']].values\n",
    "DALtest_data = scaler.transform(DALtest_data)\n",
    "DALtrain_data = DALtrain[['close']].values\n",
    "DALtrain_data = scaler.transform(DALtrain_data)\n",
    "\n",
    "UALtest_data = UALtest[['close']].values\n",
    "UALtest_data = scaler.transform(UALtest_data)\n",
    "UALtrain_data = UALtrain[['close']].values\n",
    "UALtrain_data = scaler.transform(UALtrain_data)\n",
    "\n",
    "LUVtest_data = LUVtest[['close']].values\n",
    "LUVtest_data = scaler.transform(LUVtest_data)\n",
    "LUVtrain_data = LUVtrain[['close']].values\n",
    "LUVtrain_data = scaler.transform(LUVtrain_data)\n",
    "\n",
    "AALtest_data = AALtest[['close']].values\n",
    "AALtest_data = scaler.transform(AALtest_data)\n",
    "AALtrain_data = AALtrain[['close']].values\n",
    "AALtrain_data = scaler.transform(AALtrain_data)\n"
   ]
  },
  {
   "cell_type": "markdown",
   "metadata": {},
   "source": [
    "## Algorithm 3: LSTM"
   ]
  },
  {
   "cell_type": "markdown",
   "metadata": {},
   "source": [
    "**Predict ALK close price**"
   ]
  },
  {
   "cell_type": "markdown",
   "metadata": {},
   "source": [
    "*Convert into timeseries*"
   ]
  },
  {
   "cell_type": "code",
   "execution_count": 26,
   "metadata": {},
   "outputs": [],
   "source": [
    "ALKtrain_x=[]\n",
    "ALKtrain_y=[]\n",
    "for i in range(50,len(ALKtrain_data)):\n",
    "    ALKtrain_x.append(ALKtrain_data[i-50:i,0])\n",
    "    ALKtrain_y.append(ALKtrain_data[i,0])\n",
    "ALKtrain_x=np.array(ALKtrain_x)\n",
    "ALKtrain_y=np.array(ALKtrain_y)\n",
    "#reshape data to(samples, features, time stemps)\n",
    "ALKtrain_x = ALKtrain_x.reshape(ALKtrain_x.shape[0],ALKtrain_x.shape[1],1)\n",
    "\n",
    "ALKtest_x = []\n",
    "ALKtest_y = ALKtest_data[50:]\n",
    "for i in range(50,len(ALKtest_data)):\n",
    "    ALKtest_x.append(ALKtest_data[i-50:i,0])\n",
    "ALKtest_x = np.array(ALKtest_x)\n",
    "#reshape data to(samples, features, time stemps)\n",
    "ALKtest_x = ALKtest_x.reshape(ALKtest_x.shape[0],ALKtest_x.shape[1],1)"
   ]
  },
  {
   "cell_type": "markdown",
   "metadata": {},
   "source": [
    "*Define LSTM model*"
   ]
  },
  {
   "cell_type": "code",
   "execution_count": 27,
   "metadata": {},
   "outputs": [
    {
     "name": "stdout",
     "output_type": "stream",
     "text": [
      "Model: \"sequential\"\n",
      "_________________________________________________________________\n",
      "Layer (type)                 Output Shape              Param #   \n",
      "=================================================================\n",
      "lstm (LSTM)                  (None, 50, 80)            26240     \n",
      "_________________________________________________________________\n",
      "dropout (Dropout)            (None, 50, 80)            0         \n",
      "_________________________________________________________________\n",
      "lstm_1 (LSTM)                (None, 80)                51520     \n",
      "_________________________________________________________________\n",
      "dense (Dense)                (None, 1)                 81        \n",
      "=================================================================\n",
      "Total params: 77,841\n",
      "Trainable params: 77,841\n",
      "Non-trainable params: 0\n",
      "_________________________________________________________________\n"
     ]
    }
   ],
   "source": [
    "model = Sequential()\n",
    "#80 LSTM units\n",
    "model.add(LSTM(80,input_shape=(ALKtrain_x.shape[1],1), return_sequences=True,))\n",
    "model.add(Dropout(0.2))\n",
    "model.add(LSTM(80, return_sequences=False))\n",
    "#add Dense layer, output 1 dimension\n",
    "model.add(Dense(1))\n",
    "#evaluating based on mean square error (mse), use adadelta to optimize\n",
    "model.compile(loss='mse',optimizer='adam')\n",
    "model.summary()"
   ]
  },
  {
   "cell_type": "markdown",
   "metadata": {},
   "source": [
    "*Train model*"
   ]
  },
  {
   "cell_type": "code",
   "execution_count": 28,
   "metadata": {},
   "outputs": [
    {
     "name": "stdout",
     "output_type": "stream",
     "text": [
      "Epoch 1/50\n",
      "62/62 [==============================] - 4s 67ms/step - loss: 0.0056 - val_loss: 0.0019\n",
      "Epoch 2/50\n",
      "62/62 [==============================] - 3s 45ms/step - loss: 4.0410e-04 - val_loss: 0.0013\n",
      "Epoch 3/50\n",
      "62/62 [==============================] - 3s 44ms/step - loss: 3.8856e-04 - val_loss: 0.0013\n",
      "Epoch 4/50\n",
      "62/62 [==============================] - 3s 44ms/step - loss: 3.9895e-04 - val_loss: 0.0012\n",
      "Epoch 5/50\n",
      "62/62 [==============================] - 3s 44ms/step - loss: 4.6742e-04 - val_loss: 0.0014\n",
      "Epoch 6/50\n",
      "62/62 [==============================] - 3s 46ms/step - loss: 3.7084e-04 - val_loss: 0.0011e\n",
      "Epoch 7/50\n",
      "62/62 [==============================] - 3s 46ms/step - loss: 3.5535e-04 - val_loss: 0.0013\n",
      "Epoch 8/50\n",
      "62/62 [==============================] - 3s 49ms/step - loss: 3.4393e-04 - val_loss: 0.0011\n",
      "Epoch 9/50\n",
      "62/62 [==============================] - 3s 47ms/step - loss: 4.5199e-04 - val_loss: 0.0012\n",
      "Epoch 10/50\n",
      "62/62 [==============================] - 3s 46ms/step - loss: 3.5312e-04 - val_loss: 0.0015\n",
      "Epoch 11/50\n",
      "62/62 [==============================] - 3s 48ms/step - loss: 3.4456e-04 - val_loss: 0.0010\n",
      "Epoch 12/50\n",
      "62/62 [==============================] - 3s 46ms/step - loss: 2.8323e-04 - val_loss: 0.0012 1s - lo\n",
      "Epoch 13/50\n",
      "62/62 [==============================] - 3s 44ms/step - loss: 2.6214e-04 - val_loss: 0.0011\n",
      "Epoch 14/50\n",
      "62/62 [==============================] - 3s 44ms/step - loss: 2.6085e-04 - val_loss: 8.6238e-04\n",
      "Epoch 15/50\n",
      "62/62 [==============================] - 3s 44ms/step - loss: 2.4405e-04 - val_loss: 8.6382e-04\n",
      "Epoch 16/50\n",
      "62/62 [==============================] - 3s 45ms/step - loss: 2.2469e-04 - val_loss: 8.1148e-04\n",
      "Epoch 17/50\n",
      "62/62 [==============================] - 3s 44ms/step - loss: 2.3011e-04 - val_loss: 0.0014\n",
      "Epoch 18/50\n",
      "62/62 [==============================] - 3s 44ms/step - loss: 2.7013e-04 - val_loss: 7.8886e-04\n",
      "Epoch 19/50\n",
      "62/62 [==============================] - 3s 45ms/step - loss: 2.0820e-04 - val_loss: 8.1148e-04\n",
      "Epoch 20/50\n",
      "62/62 [==============================] - 3s 43ms/step - loss: 2.2324e-04 - val_loss: 8.2860e-04\n",
      "Epoch 21/50\n",
      "62/62 [==============================] - 3s 43ms/step - loss: 2.3938e-04 - val_loss: 8.5645e-04\n",
      "Epoch 22/50\n",
      "62/62 [==============================] - 3s 43ms/step - loss: 4.0478e-04 - val_loss: 0.0011\n",
      "Epoch 23/50\n",
      "62/62 [==============================] - 3s 46ms/step - loss: 2.5632e-04 - val_loss: 8.4805e-04\n",
      "Epoch 24/50\n",
      "62/62 [==============================] - 3s 43ms/step - loss: 2.0359e-04 - val_loss: 7.3848e-04\n",
      "Epoch 25/50\n",
      "62/62 [==============================] - 3s 43ms/step - loss: 2.5415e-04 - val_loss: 8.3709e-04\n",
      "Epoch 26/50\n",
      "62/62 [==============================] - 3s 44ms/step - loss: 1.8347e-04 - val_loss: 8.2219e-04\n",
      "Epoch 27/50\n",
      "62/62 [==============================] - 3s 45ms/step - loss: 2.6890e-04 - val_loss: 7.9796e-04\n",
      "Epoch 28/50\n",
      "62/62 [==============================] - 3s 43ms/step - loss: 2.3774e-04 - val_loss: 7.5412e-04\n",
      "Epoch 29/50\n",
      "62/62 [==============================] - 3s 43ms/step - loss: 2.0880e-04 - val_loss: 7.3811e-04\n",
      "Epoch 30/50\n",
      "62/62 [==============================] - 3s 43ms/step - loss: 1.9153e-04 - val_loss: 7.3531e-04\n",
      "Epoch 31/50\n",
      "62/62 [==============================] - 3s 44ms/step - loss: 1.9106e-04 - val_loss: 0.0017\n",
      "Epoch 32/50\n",
      "62/62 [==============================] - 3s 44ms/step - loss: 2.1962e-04 - val_loss: 7.6619e-04\n",
      "Epoch 33/50\n",
      "62/62 [==============================] - 3s 45ms/step - loss: 1.5572e-04 - val_loss: 8.2495e-04\n",
      "Epoch 34/50\n",
      "62/62 [==============================] - 3s 45ms/step - loss: 1.6342e-04 - val_loss: 0.0011\n",
      "Epoch 35/50\n",
      "62/62 [==============================] - 3s 44ms/step - loss: 1.6961e-04 - val_loss: 6.2545e-04\n",
      "Epoch 36/50\n",
      "62/62 [==============================] - 3s 43ms/step - loss: 1.7761e-04 - val_loss: 7.8276e-04\n",
      "Epoch 37/50\n",
      "62/62 [==============================] - 3s 44ms/step - loss: 1.9317e-04 - val_loss: 7.6618e-04\n",
      "Epoch 38/50\n",
      "62/62 [==============================] - 3s 44ms/step - loss: 1.7540e-04 - val_loss: 6.0609e-04\n",
      "Epoch 39/50\n",
      "62/62 [==============================] - ETA: 0s - loss: 1.5163e-0 - 3s 43ms/step - loss: 1.5163e-04 - val_loss: 0.0012\n",
      "Epoch 40/50\n",
      "62/62 [==============================] - 3s 43ms/step - loss: 1.4203e-04 - val_loss: 5.9520e-04\n",
      "Epoch 41/50\n",
      "62/62 [==============================] - 3s 43ms/step - loss: 2.9711e-04 - val_loss: 0.0014\n",
      "Epoch 42/50\n",
      "62/62 [==============================] - 3s 43ms/step - loss: 1.9045e-04 - val_loss: 5.6709e-04\n",
      "Epoch 43/50\n",
      "62/62 [==============================] - 3s 43ms/step - loss: 2.0407e-04 - val_loss: 5.8478e-04\n",
      "Epoch 44/50\n",
      "62/62 [==============================] - 3s 43ms/step - loss: 1.6883e-04 - val_loss: 5.7112e-04\n",
      "Epoch 45/50\n",
      "62/62 [==============================] - 3s 43ms/step - loss: 1.7106e-04 - val_loss: 5.4430e-04\n",
      "Epoch 46/50\n",
      "62/62 [==============================] - 3s 43ms/step - loss: 1.8172e-04 - val_loss: 0.0010\n",
      "Epoch 47/50\n",
      "62/62 [==============================] - 3s 43ms/step - loss: 1.5765e-04 - val_loss: 5.4931e-04\n",
      "Epoch 48/50\n",
      "62/62 [==============================] - 3s 44ms/step - loss: 1.4635e-04 - val_loss: 6.5400e-04\n",
      "Epoch 49/50\n",
      "62/62 [==============================] - 3s 44ms/step - loss: 1.7776e-04 - val_loss: 5.5378e-04\n",
      "Epoch 50/50\n",
      "62/62 [==============================] - 3s 43ms/step - loss: 1.5048e-04 - val_loss: 5.0882e-04\n",
      "Wall time: 2min 26s\n"
     ]
    },
    {
     "data": {
      "text/plain": [
       "<tensorflow.python.keras.callbacks.History at 0x1f9941ed040>"
      ]
     },
     "execution_count": 28,
     "metadata": {},
     "output_type": "execute_result"
    }
   ],
   "source": [
    "%%time\n",
    "#10-fold cross validation \n",
    "#batch_size=20, epochs=50\n",
    "model.fit(ALKtrain_x, ALKtrain_y,validation_split=0.1,batch_size=20, epochs=50)"
   ]
  },
  {
   "cell_type": "markdown",
   "metadata": {},
   "source": [
    "*Predict*"
   ]
  },
  {
   "cell_type": "code",
   "execution_count": 29,
   "metadata": {},
   "outputs": [
    {
     "name": "stdout",
     "output_type": "stream",
     "text": [
      "Wall time: 1.44 s\n",
      "mse on train dataset = 0.0001340 mse on test dataset = 0.0006213\n"
     ]
    }
   ],
   "source": [
    "%time ALK_predict = model.predict(ALKtest_x) \n",
    "#denormalize\n",
    "ALK_predict = scaler.inverse_transform(ALK_predict)\n",
    "#mse on train dataset and test dataset\n",
    "ALK_train_mse = model.evaluate(ALKtrain_x, ALKtrain_y, verbose=0)\n",
    "ALK_test_mse = model.evaluate(ALKtest_x, ALKtest_y, verbose=0)\n",
    "print('mse on train dataset = '\"%.7f\" % ALK_train_mse,\n",
    "      'mse on test dataset = '\"%.7f\" % ALK_test_mse)"
   ]
  },
  {
   "cell_type": "markdown",
   "metadata": {},
   "source": [
    "*Comparison plot*"
   ]
  },
  {
   "cell_type": "code",
   "execution_count": 30,
   "metadata": {},
   "outputs": [
    {
     "name": "stderr",
     "output_type": "stream",
     "text": [
      "<ipython-input-30-3f51332cee0a>:3: SettingWithCopyWarning: \n",
      "A value is trying to be set on a copy of a slice from a DataFrame.\n",
      "Try using .loc[row_indexer,col_indexer] = value instead\n",
      "\n",
      "See the caveats in the documentation: https://pandas.pydata.org/pandas-docs/stable/user_guide/indexing.html#returning-a-view-versus-a-copy\n",
      "  ALK_predictplot['predict'] = ALK_predict\n"
     ]
    },
    {
     "data": {
      "image/png": "[encoded data removed]",
      "text/plain": [
       "<Figure size 720x576 with 1 Axes>"
      ]
     },
     "metadata": {
      "needs_background": "light"
     },
     "output_type": "display_data"
    }
   ],
   "source": [
    "ALK_oriplot = ALK\n",
    "ALK_predictplot = ALKtest[50:]\n",
    "ALK_predictplot['predict'] = ALK_predict\n",
    "\n",
    "plt.plot(ALK_oriplot['close'],'k')\n",
    "plt.plot(ALK_predictplot['predict'], 'r')\n",
    "plt.title('ALK predicted data vs. original data')\n",
    "plt.xlabel('Time')\n",
    "plt.ylabel('ALK closing stock price')\n",
    "plt.legend(['Original price',  'Predicted price'])\n",
    "plt.show()"
   ]
  },
  {
   "cell_type": "markdown",
   "metadata": {},
   "source": [
    "**DAL**"
   ]
  },
  {
   "cell_type": "code",
   "execution_count": 31,
   "metadata": {},
   "outputs": [],
   "source": [
    "#convert into timeseries\n",
    "DALtrain_x=[]\n",
    "DALtrain_y=[]\n",
    "for i in range(50,len(DALtrain_data)):\n",
    "    DALtrain_x.append(DALtrain_data[i-50:i,0])\n",
    "    DALtrain_y.append(DALtrain_data[i,0])\n",
    "DALtrain_x=np.array(DALtrain_x)\n",
    "DALtrain_y=np.array(DALtrain_y)\n",
    "#reshape data to(samples, features, time stemps)\n",
    "DALtrain_x = DALtrain_x.reshape(DALtrain_x.shape[0],DALtrain_x.shape[1],1)\n",
    "\n",
    "DALtest_x = []\n",
    "DALtest_y = DALtest_data[50:]\n",
    "for i in range(50,len(DALtest_data)):\n",
    "    DALtest_x.append(DALtest_data[i-50:i,0])\n",
    "DALtest_x = np.array(DALtest_x)\n",
    "#reshape data to(samples, features, time stemps)\n",
    "DALtest_x = DALtest_x.reshape(DALtest_x.shape[0],DALtest_x.shape[1],1)"
   ]
  },
  {
   "cell_type": "code",
   "execution_count": 32,
   "metadata": {},
   "outputs": [],
   "source": [
    "#define LSTM model\n",
    "model = Sequential()\n",
    "#80 LSTM units\n",
    "model.add(LSTM(80,input_shape=(DALtrain_x.shape[1],1), return_sequences=True,))\n",
    "model.add(Dropout(0.2))\n",
    "model.add(LSTM(80, return_sequences=False))\n",
    "#add Dense layer, output 1 dimension\n",
    "model.add(Dense(1))\n",
    "#evaluating based on mean square error (mse), use adadelta to optimize\n",
    "model.compile(loss='mse',optimizer='adam')"
   ]
  },
  {
   "cell_type": "code",
   "execution_count": 33,
   "metadata": {},
   "outputs": [
    {
     "name": "stdout",
     "output_type": "stream",
     "text": [
      "Epoch 1/50\n",
      "62/62 [==============================] - 4s 66ms/step - loss: 0.0030 - val_loss: 0.0012\n",
      "Epoch 2/50\n",
      "62/62 [==============================] - 3s 44ms/step - loss: 2.6559e-04 - val_loss: 6.4642e-04\n",
      "Epoch 3/50\n",
      "62/62 [==============================] - 3s 44ms/step - loss: 2.9650e-04 - val_loss: 7.1928e-04\n",
      "Epoch 4/50\n",
      "62/62 [==============================] - 3s 44ms/step - loss: 2.7258e-04 - val_loss: 0.0017\n",
      "Epoch 5/50\n",
      "62/62 [==============================] - 3s 44ms/step - loss: 2.3911e-04 - val_loss: 5.6047e-04\n",
      "Epoch 6/50\n",
      "62/62 [==============================] - ETA: 0s - loss: 2.6547e-04- ETA: 0s - loss: - 3s 43ms/step - loss: 2.6547e-04 - val_loss: 5.5421e-04\n",
      "Epoch 7/50\n",
      "62/62 [==============================] - ETA: 0s - loss: 2.2324e-0 - 3s 43ms/step - loss: 2.2324e-04 - val_loss: 6.6786e-04\n",
      "Epoch 8/50\n",
      "62/62 [==============================] - 3s 43ms/step - loss: 2.4220e-04 - val_loss: 0.0020\n",
      "Epoch 9/50\n",
      "62/62 [==============================] - 3s 43ms/step - loss: 3.1703e-04 - val_loss: 5.6168e-04\n",
      "Epoch 10/50\n",
      "62/62 [==============================] - 3s 43ms/step - loss: 2.4998e-04 - val_loss: 6.9854e-04\n",
      "Epoch 11/50\n",
      "62/62 [==============================] - 3s 43ms/step - loss: 2.2292e-04 - val_loss: 0.0011\n",
      "Epoch 12/50\n",
      "62/62 [==============================] - 3s 43ms/step - loss: 2.1368e-04 - val_loss: 5.2696e-04\n",
      "Epoch 13/50\n",
      "62/62 [==============================] - 3s 43ms/step - loss: 1.8754e-04 - val_loss: 5.2593e-04\n",
      "Epoch 14/50\n",
      "62/62 [==============================] - 3s 43ms/step - loss: 1.9842e-04 - val_loss: 4.6419e-04\n",
      "Epoch 15/50\n",
      "62/62 [==============================] - 3s 43ms/step - loss: 2.1050e-04 - val_loss: 7.2485e-04\n",
      "Epoch 16/50\n",
      "62/62 [==============================] - 3s 43ms/step - loss: 1.8274e-04 - val_loss: 4.4317e-04\n",
      "Epoch 17/50\n",
      "62/62 [==============================] - 3s 43ms/step - loss: 1.8125e-04 - val_loss: 6.1116e-04\n",
      "Epoch 18/50\n",
      "62/62 [==============================] - 3s 43ms/step - loss: 1.9711e-04 - val_loss: 5.8889e-04\n",
      "Epoch 19/50\n",
      "62/62 [==============================] - 3s 43ms/step - loss: 1.8713e-04 - val_loss: 9.6345e-04\n",
      "Epoch 20/50\n",
      "62/62 [==============================] - 3s 43ms/step - loss: 1.4933e-04 - val_loss: 4.1729e-04\n",
      "Epoch 21/50\n",
      "62/62 [==============================] - 3s 44ms/step - loss: 1.6764e-04 - val_loss: 3.9743e-04\n",
      "Epoch 22/50\n",
      "62/62 [==============================] - 3s 43ms/step - loss: 2.0298e-04 - val_loss: 5.8627e-04\n",
      "Epoch 23/50\n",
      "62/62 [==============================] - 3s 43ms/step - loss: 1.8208e-04 - val_loss: 3.8735e-04\n",
      "Epoch 24/50\n",
      "62/62 [==============================] - 3s 43ms/step - loss: 1.8404e-04 - val_loss: 5.2575e-04\n",
      "Epoch 25/50\n",
      "62/62 [==============================] - 3s 43ms/step - loss: 1.9332e-04 - val_loss: 3.4493e-04\n",
      "Epoch 26/50\n",
      "62/62 [==============================] - 3s 42ms/step - loss: 1.7675e-04 - val_loss: 3.8717e-04\n",
      "Epoch 27/50\n",
      "62/62 [==============================] - 3s 43ms/step - loss: 1.4406e-04 - val_loss: 3.7267e-04\n",
      "Epoch 28/50\n",
      "62/62 [==============================] - 3s 43ms/step - loss: 1.3818e-04 - val_loss: 6.9470e-04\n",
      "Epoch 29/50\n",
      "62/62 [==============================] - 3s 43ms/step - loss: 1.5175e-04 - val_loss: 3.0605e-04\n",
      "Epoch 30/50\n",
      "62/62 [==============================] - 3s 43ms/step - loss: 1.3311e-04 - val_loss: 2.9970e-04\n",
      "Epoch 31/50\n",
      "62/62 [==============================] - 3s 43ms/step - loss: 1.6582e-04 - val_loss: 3.2960e-04\n",
      "Epoch 32/50\n",
      "62/62 [==============================] - 3s 43ms/step - loss: 1.2913e-04 - val_loss: 3.9548e-04\n",
      "Epoch 33/50\n",
      "62/62 [==============================] - 3s 43ms/step - loss: 1.5087e-04 - val_loss: 2.7467e-04\n",
      "Epoch 34/50\n",
      "62/62 [==============================] - 3s 43ms/step - loss: 1.2485e-04 - val_loss: 5.9934e-04\n",
      "Epoch 35/50\n",
      "62/62 [==============================] - 3s 43ms/step - loss: 1.1497e-04 - val_loss: 3.9047e-04\n",
      "Epoch 36/50\n",
      "62/62 [==============================] - 3s 43ms/step - loss: 1.1127e-04 - val_loss: 2.5480e-04\n",
      "Epoch 37/50\n",
      "62/62 [==============================] - 3s 44ms/step - loss: 1.6798e-04 - val_loss: 2.4725e-04\n",
      "Epoch 38/50\n",
      "62/62 [==============================] - 3s 43ms/step - loss: 1.3273e-04 - val_loss: 2.5798e-04\n",
      "Epoch 39/50\n",
      "62/62 [==============================] - 3s 43ms/step - loss: 1.4114e-04 - val_loss: 2.2867e-04\n",
      "Epoch 40/50\n",
      "62/62 [==============================] - 3s 43ms/step - loss: 1.1435e-04 - val_loss: 3.6423e-04\n",
      "Epoch 41/50\n",
      "62/62 [==============================] - 3s 43ms/step - loss: 1.1307e-04 - val_loss: 2.1723e-04\n",
      "Epoch 42/50\n",
      "62/62 [==============================] - 3s 43ms/step - loss: 1.3008e-04 - val_loss: 2.3075e-04\n",
      "Epoch 43/50\n",
      "62/62 [==============================] - 3s 43ms/step - loss: 1.2347e-04 - val_loss: 2.0802e-04\n",
      "Epoch 44/50\n",
      "62/62 [==============================] - 3s 43ms/step - loss: 1.4588e-04 - val_loss: 2.5675e-04\n",
      "Epoch 45/50\n",
      "62/62 [==============================] - 3s 43ms/step - loss: 1.1690e-04 - val_loss: 2.2614e-04\n",
      "Epoch 46/50\n",
      "62/62 [==============================] - 3s 43ms/step - loss: 1.1372e-04 - val_loss: 2.0864e-04\n",
      "Epoch 47/50\n",
      "62/62 [==============================] - 3s 43ms/step - loss: 1.2961e-04 - val_loss: 6.1151e-04\n",
      "Epoch 48/50\n",
      "62/62 [==============================] - 3s 43ms/step - loss: 1.3509e-04 - val_loss: 3.0011e-04\n",
      "Epoch 49/50\n",
      "62/62 [==============================] - 3s 43ms/step - loss: 9.6619e-05 - val_loss: 4.0238e-04\n",
      "Epoch 50/50\n",
      "62/62 [==============================] - 3s 43ms/step - loss: 1.3486e-04 - val_loss: 2.4192e-04\n",
      "Wall time: 2min 22s\n",
      "Wall time: 1.33 s\n",
      "mse on train dataset = 0.0001455 mse on test dataset = 0.0002701\n"
     ]
    }
   ],
   "source": [
    "#train model\n",
    "#10-fold cross validation \n",
    "#batch_size=20, epochs=50\n",
    "%time model.fit(DALtrain_x, DALtrain_y,validation_split=0.1,batch_size=20, epochs=50)\n",
    "#predict\n",
    "%time DAL_predict = model.predict(DALtest_x) \n",
    "#denormalize\n",
    "DAL_predict = scaler.inverse_transform(DAL_predict)\n",
    "#mse on train dataset and test dataset\n",
    "DAL_train_mse = model.evaluate(DALtrain_x, DALtrain_y, verbose=0)\n",
    "DAL_test_mse = model.evaluate(DALtest_x, DALtest_y, verbose=0)\n",
    "print('mse on train dataset = '\"%.7f\" % DAL_train_mse,\n",
    "      'mse on test dataset = '\"%.7f\" % DAL_test_mse)"
   ]
  },
  {
   "cell_type": "code",
   "execution_count": 34,
   "metadata": {},
   "outputs": [
    {
     "name": "stderr",
     "output_type": "stream",
     "text": [
      "<ipython-input-34-f6fba5849b76>:4: SettingWithCopyWarning: \n",
      "A value is trying to be set on a copy of a slice from a DataFrame.\n",
      "Try using .loc[row_indexer,col_indexer] = value instead\n",
      "\n",
      "See the caveats in the documentation: https://pandas.pydata.org/pandas-docs/stable/user_guide/indexing.html#returning-a-view-versus-a-copy\n",
      "  DAL_predictplot['predict'] = DAL_predict\n"
     ]
    },
    {
     "data": {
      "image/png": "[encoded data removed]",
      "text/plain": [
       "<Figure size 720x576 with 1 Axes>"
      ]
     },
     "metadata": {
      "needs_background": "light"
     },
     "output_type": "display_data"
    }
   ],
   "source": [
    "#comparison plot\n",
    "DAL_oriplot = DAL\n",
    "DAL_predictplot = DALtest[50:]\n",
    "DAL_predictplot['predict'] = DAL_predict\n",
    "\n",
    "plt.plot(DAL_oriplot['close'],'k')\n",
    "plt.plot(DAL_predictplot['predict'], 'r')\n",
    "plt.title('DAL predicted data vs. original data')\n",
    "plt.xlabel('Time')\n",
    "plt.ylabel('DAL closing stock price')\n",
    "plt.legend(['Original price',  'Predicted price'])\n",
    "plt.show()"
   ]
  },
  {
   "cell_type": "markdown",
   "metadata": {},
   "source": [
    "**UAL**"
   ]
  },
  {
   "cell_type": "code",
   "execution_count": 35,
   "metadata": {},
   "outputs": [],
   "source": [
    "#convert into timeseries\n",
    "UALtrain_x=[]\n",
    "UALtrain_y=[]\n",
    "for i in range(50,len(UALtrain_data)):\n",
    "    UALtrain_x.append(UALtrain_data[i-50:i,0])\n",
    "    UALtrain_y.append(UALtrain_data[i,0])\n",
    "UALtrain_x=np.array(UALtrain_x)\n",
    "UALtrain_y=np.array(UALtrain_y)\n",
    "#reshape data to(samples, features, time stemps)\n",
    "UALtrain_x = UALtrain_x.reshape(UALtrain_x.shape[0],UALtrain_x.shape[1],1)\n",
    "\n",
    "UALtest_x = []\n",
    "UALtest_y = UALtest_data[50:]\n",
    "for i in range(50,len(UALtest_data)):\n",
    "    UALtest_x.append(UALtest_data[i-50:i,0])\n",
    "UALtest_x = np.array(UALtest_x)\n",
    "#reshape data to(samples, features, time stemps)\n",
    "UALtest_x = UALtest_x.reshape(UALtest_x.shape[0],UALtest_x.shape[1],1)"
   ]
  },
  {
   "cell_type": "code",
   "execution_count": 36,
   "metadata": {},
   "outputs": [],
   "source": [
    "#define LSTM model\n",
    "model = Sequential()\n",
    "#80 LSTM units\n",
    "model.add(LSTM(80,input_shape=(UALtrain_x.shape[1],1), return_sequences=True,))\n",
    "model.add(Dropout(0.2))\n",
    "model.add(LSTM(80, return_sequences=False))\n",
    "#add Dense layer, output 1 dimension\n",
    "model.add(Dense(1))\n",
    "#evaluating based on mean square error (mse), use adadelta to optimize\n",
    "model.compile(loss='mse',optimizer='adam')"
   ]
  },
  {
   "cell_type": "code",
   "execution_count": 37,
   "metadata": {},
   "outputs": [
    {
     "name": "stdout",
     "output_type": "stream",
     "text": [
      "Epoch 1/50\n",
      "62/62 [==============================] - 5s 76ms/step - loss: 0.0063 - val_loss: 0.0024\n",
      "Epoch 2/50\n",
      "62/62 [==============================] - 3s 47ms/step - loss: 7.5588e-04 - val_loss: 0.0014\n",
      "Epoch 3/50\n",
      "62/62 [==============================] - 3s 46ms/step - loss: 8.6062e-04 - val_loss: 0.0034\n",
      "Epoch 4/50\n",
      "62/62 [==============================] - 3s 45ms/step - loss: 7.9128e-04 - val_loss: 0.0020\n",
      "Epoch 5/50\n",
      "62/62 [==============================] - 3s 48ms/step - loss: 7.0589e-04 - val_loss: 0.0027\n",
      "Epoch 6/50\n",
      "62/62 [==============================] - 3s 45ms/step - loss: 6.8045e-04 - val_loss: 0.0020\n",
      "Epoch 7/50\n",
      "62/62 [==============================] - 3s 46ms/step - loss: 5.9975e-04 - val_loss: 0.0016\n",
      "Epoch 8/50\n",
      "62/62 [==============================] - 3s 47ms/step - loss: 6.4144e-04 - val_loss: 0.0010\n",
      "Epoch 9/50\n",
      "62/62 [==============================] - 3s 46ms/step - loss: 6.1531e-04 - val_loss: 9.8030e-04\n",
      "Epoch 10/50\n",
      "62/62 [==============================] - 3s 48ms/step - loss: 5.5446e-04 - val_loss: 0.0038\n",
      "Epoch 11/50\n",
      "62/62 [==============================] - 3s 49ms/step - loss: 4.9615e-04 - val_loss: 0.0040\n",
      "Epoch 12/50\n",
      "62/62 [==============================] - 3s 48ms/step - loss: 5.8779e-04 - val_loss: 8.6970e-04\n",
      "Epoch 13/50\n",
      "62/62 [==============================] - 3s 48ms/step - loss: 5.3691e-04 - val_loss: 0.0017\n",
      "Epoch 14/50\n",
      "62/62 [==============================] - 3s 45ms/step - loss: 5.6625e-04 - val_loss: 0.0011\n",
      "Epoch 15/50\n",
      "62/62 [==============================] - 3s 45ms/step - loss: 5.2572e-04 - val_loss: 0.0012\n",
      "Epoch 16/50\n",
      "62/62 [==============================] - 3s 45ms/step - loss: 4.6605e-04 - val_loss: 0.0010\n",
      "Epoch 17/50\n",
      "62/62 [==============================] - 3s 45ms/step - loss: 4.5487e-04 - val_loss: 0.0011\n",
      "Epoch 18/50\n",
      "62/62 [==============================] - 3s 45ms/step - loss: 4.1743e-04 - val_loss: 8.5717e-04\n",
      "Epoch 19/50\n",
      "62/62 [==============================] - 3s 44ms/step - loss: 3.9158e-04 - val_loss: 7.5222e-04\n",
      "Epoch 20/50\n",
      "62/62 [==============================] - 3s 44ms/step - loss: 4.5388e-04 - val_loss: 9.2263e-04\n",
      "Epoch 21/50\n",
      "62/62 [==============================] - 3s 44ms/step - loss: 3.9633e-04 - val_loss: 7.6710e-04\n",
      "Epoch 22/50\n",
      "62/62 [==============================] - 3s 44ms/step - loss: 5.2050e-04 - val_loss: 7.3289e-04\n",
      "Epoch 23/50\n",
      "62/62 [==============================] - 3s 44ms/step - loss: 4.8524e-04 - val_loss: 7.7025e-04\n",
      "Epoch 24/50\n",
      "62/62 [==============================] - 3s 44ms/step - loss: 4.1076e-04 - val_loss: 0.0011\n",
      "Epoch 25/50\n",
      "62/62 [==============================] - 3s 44ms/step - loss: 3.7818e-04 - val_loss: 8.5707e-04\n",
      "Epoch 26/50\n",
      "62/62 [==============================] - 3s 43ms/step - loss: 3.6052e-04 - val_loss: 8.6695e-04\n",
      "Epoch 27/50\n",
      "62/62 [==============================] - 3s 43ms/step - loss: 4.1794e-04 - val_loss: 6.7211e-04\n",
      "Epoch 28/50\n",
      "62/62 [==============================] - 3s 44ms/step - loss: 3.6767e-04 - val_loss: 7.5439e-04\n",
      "Epoch 29/50\n",
      "62/62 [==============================] - ETA: 0s - loss: 3.5514e-0 - 3s 43ms/step - loss: 3.5514e-04 - val_loss: 0.0014\n",
      "Epoch 30/50\n",
      "62/62 [==============================] - 3s 44ms/step - loss: 4.1909e-04 - val_loss: 6.3535e-04\n",
      "Epoch 31/50\n",
      "62/62 [==============================] - 3s 44ms/step - loss: 3.0317e-04 - val_loss: 0.0014\n",
      "Epoch 32/50\n",
      "62/62 [==============================] - 3s 44ms/step - loss: 3.7364e-04 - val_loss: 7.5057e-04\n",
      "Epoch 33/50\n",
      "62/62 [==============================] - 3s 43ms/step - loss: 3.4000e-04 - val_loss: 6.0670e-04\n",
      "Epoch 34/50\n",
      "62/62 [==============================] - 3s 44ms/step - loss: 3.4625e-04 - val_loss: 7.7380e-04\n",
      "Epoch 35/50\n",
      "62/62 [==============================] - 3s 43ms/step - loss: 3.0866e-04 - val_loss: 6.8157e-04\n",
      "Epoch 36/50\n",
      "62/62 [==============================] - 3s 44ms/step - loss: 3.5989e-04 - val_loss: 0.0015\n",
      "Epoch 37/50\n",
      "62/62 [==============================] - 3s 44ms/step - loss: 2.8279e-04 - val_loss: 8.1039e-04\n",
      "Epoch 38/50\n",
      "62/62 [==============================] - 3s 44ms/step - loss: 3.2980e-04 - val_loss: 6.4697e-04\n",
      "Epoch 39/50\n",
      "62/62 [==============================] - 3s 44ms/step - loss: 3.2234e-04 - val_loss: 9.5556e-04\n",
      "Epoch 40/50\n",
      "62/62 [==============================] - 3s 44ms/step - loss: 2.8404e-04 - val_loss: 6.6559e-04\n",
      "Epoch 41/50\n",
      "62/62 [==============================] - 3s 44ms/step - loss: 2.9939e-04 - val_loss: 0.0017\n",
      "Epoch 42/50\n",
      "62/62 [==============================] - 3s 44ms/step - loss: 3.2420e-04 - val_loss: 0.0020\n",
      "Epoch 43/50\n",
      "62/62 [==============================] - 3s 43ms/step - loss: 2.6540e-04 - val_loss: 5.2380e-04\n",
      "Epoch 44/50\n",
      "62/62 [==============================] - 3s 43ms/step - loss: 2.5366e-04 - val_loss: 6.3350e-04\n",
      "Epoch 45/50\n",
      "62/62 [==============================] - 3s 44ms/step - loss: 2.7269e-04 - val_loss: 0.0011\n",
      "Epoch 46/50\n",
      "62/62 [==============================] - 3s 44ms/step - loss: 3.1562e-04 - val_loss: 8.0568e-04\n",
      "Epoch 47/50\n",
      "62/62 [==============================] - 3s 44ms/step - loss: 2.7508e-04 - val_loss: 6.6990e-04\n",
      "Epoch 48/50\n",
      "62/62 [==============================] - 3s 43ms/step - loss: 2.7165e-04 - val_loss: 9.7179e-04\n",
      "Epoch 49/50\n",
      "62/62 [==============================] - 3s 46ms/step - loss: 3.0392e-04 - val_loss: 0.0015\n",
      "Epoch 50/50\n",
      "62/62 [==============================] - 3s 45ms/step - loss: 2.8296e-04 - val_loss: 7.6149e-04\n",
      "Wall time: 2min 28s\n",
      "Wall time: 1.35 s\n",
      "mse on train dataset = 0.0002528 mse on test dataset = 0.0005181\n"
     ]
    }
   ],
   "source": [
    "#train model\n",
    "#10-fold cross validation \n",
    "#batch_size=20, epochs=50\n",
    "%time model.fit(UALtrain_x, UALtrain_y,validation_split=0.1,batch_size=20, epochs=50)\n",
    "#predict\n",
    "%time UAL_predict = model.predict(UALtest_x) \n",
    "#denormalize\n",
    "UAL_predict = scaler.inverse_transform(UAL_predict)\n",
    "#mse on train dataset and test dataset\n",
    "UAL_train_mse = model.evaluate(UALtrain_x, UALtrain_y, verbose=0)\n",
    "UAL_test_mse = model.evaluate(UALtest_x, UALtest_y, verbose=0)\n",
    "print('mse on train dataset = '\"%.7f\" % UAL_train_mse,\n",
    "      'mse on test dataset = '\"%.7f\" % UAL_test_mse)"
   ]
  },
  {
   "cell_type": "code",
   "execution_count": 38,
   "metadata": {},
   "outputs": [
    {
     "name": "stderr",
     "output_type": "stream",
     "text": [
      "<ipython-input-38-13a85ad87c38>:4: SettingWithCopyWarning: \n",
      "A value is trying to be set on a copy of a slice from a DataFrame.\n",
      "Try using .loc[row_indexer,col_indexer] = value instead\n",
      "\n",
      "See the caveats in the documentation: https://pandas.pydata.org/pandas-docs/stable/user_guide/indexing.html#returning-a-view-versus-a-copy\n",
      "  UAL_predictplot['predict'] = UAL_predict\n"
     ]
    },
    {
     "data": {
      "image/png": "[encoded data removed]",
      "text/plain": [
       "<Figure size 720x576 with 1 Axes>"
      ]
     },
     "metadata": {
      "needs_background": "light"
     },
     "output_type": "display_data"
    }
   ],
   "source": [
    "#comparison plot\n",
    "UAL_oriplot = UAL\n",
    "UAL_predictplot = UALtest[50:]\n",
    "UAL_predictplot['predict'] = UAL_predict\n",
    "\n",
    "plt.plot(UAL_oriplot['close'],'k')\n",
    "plt.plot(UAL_predictplot['predict'], 'r')\n",
    "plt.title('UAL predicted data vs. original data')\n",
    "plt.xlabel('Time')\n",
    "plt.ylabel('UAL closing stock price')\n",
    "plt.legend(['Original price',  'Predicted price'])\n",
    "plt.show()"
   ]
  },
  {
   "cell_type": "markdown",
   "metadata": {},
   "source": [
    "**LUV**"
   ]
  },
  {
   "cell_type": "code",
   "execution_count": 39,
   "metadata": {},
   "outputs": [],
   "source": [
    "#convert into timeseries\n",
    "LUVtrain_x=[]\n",
    "LUVtrain_y=[]\n",
    "for i in range(50,len(LUVtrain_data)):\n",
    "    LUVtrain_x.append(LUVtrain_data[i-50:i,0])\n",
    "    LUVtrain_y.append(LUVtrain_data[i,0])\n",
    "LUVtrain_x=np.array(LUVtrain_x)\n",
    "LUVtrain_y=np.array(LUVtrain_y)\n",
    "#reshape data to(samples, features, time stemps)\n",
    "LUVtrain_x = LUVtrain_x.reshape(LUVtrain_x.shape[0],LUVtrain_x.shape[1],1)\n",
    "\n",
    "LUVtest_x = []\n",
    "LUVtest_y = LUVtest_data[50:]\n",
    "for i in range(50,len(LUVtest_data)):\n",
    "    LUVtest_x.append(LUVtest_data[i-50:i,0])\n",
    "LUVtest_x = np.array(LUVtest_x)\n",
    "#reshape data to(samples, features, time stemps)\n",
    "LUVtest_x = LUVtest_x.reshape(LUVtest_x.shape[0],LUVtest_x.shape[1],1)"
   ]
  },
  {
   "cell_type": "code",
   "execution_count": 40,
   "metadata": {},
   "outputs": [],
   "source": [
    "#define LSTM model\n",
    "model = Sequential()\n",
    "#80 LSTM units\n",
    "model.add(LSTM(80,input_shape=(LUVtrain_x.shape[1],1), return_sequences=True,))\n",
    "model.add(Dropout(0.2))\n",
    "model.add(LSTM(80, return_sequences=False))\n",
    "#add Dense layer, output 1 dimension\n",
    "model.add(Dense(1))\n",
    "#evaluating based on mean square error (mse), use adadelta to optimize\n",
    "model.compile(loss='mse',optimizer='adam')"
   ]
  },
  {
   "cell_type": "code",
   "execution_count": 41,
   "metadata": {},
   "outputs": [
    {
     "name": "stdout",
     "output_type": "stream",
     "text": [
      "Epoch 1/50\n",
      "62/62 [==============================] - 4s 67ms/step - loss: 0.0014 - val_loss: 5.9144e-04\n",
      "Epoch 2/50\n",
      "62/62 [==============================] - 3s 45ms/step - loss: 1.3417e-04 - val_loss: 8.1836e-04 ETA: 0s - loss\n",
      "Epoch 3/50\n",
      "62/62 [==============================] - 3s 45ms/step - loss: 1.2871e-04 - val_loss: 6.3029e-041.2369e\n",
      "Epoch 4/50\n",
      "62/62 [==============================] - 3s 45ms/step - loss: 1.3464e-04 - val_loss: 6.1804e-04\n",
      "Epoch 5/50\n",
      "62/62 [==============================] - 3s 46ms/step - loss: 2.0799e-04 - val_loss: 8.9478e-04ss: 2.1166e-\n",
      "Epoch 6/50\n",
      "62/62 [==============================] - 3s 45ms/step - loss: 1.9676e-04 - val_loss: 0.0032\n",
      "Epoch 7/50\n",
      "62/62 [==============================] - 3s 45ms/step - loss: 1.5489e-04 - val_loss: 6.4335e-04\n",
      "Epoch 8/50\n",
      "62/62 [==============================] - 3s 45ms/step - loss: 1.1276e-04 - val_loss: 4.0364e-04\n",
      "Epoch 9/50\n",
      "62/62 [==============================] - 3s 45ms/step - loss: 1.8694e-04 - val_loss: 0.0015\n",
      "Epoch 10/50\n",
      "62/62 [==============================] - 3s 45ms/step - loss: 1.1973e-04 - val_loss: 4.3263e-04\n",
      "Epoch 11/50\n",
      "62/62 [==============================] - 3s 44ms/step - loss: 1.2346e-04 - val_loss: 3.5809e-04\n",
      "Epoch 12/50\n",
      "62/62 [==============================] - 3s 44ms/step - loss: 1.1312e-04 - val_loss: 3.8563e-04\n",
      "Epoch 13/50\n",
      "62/62 [==============================] - 3s 44ms/step - loss: 1.0179e-04 - val_loss: 3.7417e-04\n",
      "Epoch 14/50\n",
      "62/62 [==============================] - 3s 44ms/step - loss: 1.0561e-04 - val_loss: 0.0011\n",
      "Epoch 15/50\n",
      "62/62 [==============================] - 3s 44ms/step - loss: 1.0975e-04 - val_loss: 3.6713e-04\n",
      "Epoch 16/50\n",
      "62/62 [==============================] - 3s 44ms/step - loss: 8.5971e-05 - val_loss: 7.1337e-04\n",
      "Epoch 17/50\n",
      "62/62 [==============================] - 3s 44ms/step - loss: 9.1956e-05 - val_loss: 3.7587e-04\n",
      "Epoch 18/50\n",
      "62/62 [==============================] - 3s 45ms/step - loss: 1.1151e-04 - val_loss: 3.1811e-04\n",
      "Epoch 19/50\n",
      "62/62 [==============================] - 3s 44ms/step - loss: 1.1320e-04 - val_loss: 5.6103e-04\n",
      "Epoch 20/50\n",
      "62/62 [==============================] - 3s 44ms/step - loss: 1.1344e-04 - val_loss: 8.4744e-04\n",
      "Epoch 21/50\n",
      "62/62 [==============================] - 3s 44ms/step - loss: 1.0862e-04 - val_loss: 2.9985e-04\n",
      "Epoch 22/50\n",
      "62/62 [==============================] - 3s 45ms/step - loss: 1.0230e-04 - val_loss: 5.9661e-04\n",
      "Epoch 23/50\n",
      "62/62 [==============================] - 3s 44ms/step - loss: 8.2383e-05 - val_loss: 2.8644e-04\n",
      "Epoch 24/50\n",
      "62/62 [==============================] - 3s 44ms/step - loss: 8.6287e-05 - val_loss: 7.9782e-04\n",
      "Epoch 25/50\n",
      "62/62 [==============================] - 3s 44ms/step - loss: 9.0765e-05 - val_loss: 4.1374e-04\n",
      "Epoch 26/50\n",
      "62/62 [==============================] - 3s 45ms/step - loss: 8.3150e-05 - val_loss: 2.9615e-04\n",
      "Epoch 27/50\n",
      "62/62 [==============================] - 3s 44ms/step - loss: 1.0666e-04 - val_loss: 4.7356e-04\n",
      "Epoch 28/50\n",
      "62/62 [==============================] - 3s 44ms/step - loss: 7.5080e-05 - val_loss: 2.7349e-04\n",
      "Epoch 29/50\n",
      "62/62 [==============================] - 3s 44ms/step - loss: 6.5298e-05 - val_loss: 2.8270e-04\n",
      "Epoch 30/50\n",
      "62/62 [==============================] - 3s 44ms/step - loss: 7.7513e-05 - val_loss: 2.9180e-04\n",
      "Epoch 31/50\n",
      "62/62 [==============================] - 3s 44ms/step - loss: 7.4893e-05 - val_loss: 2.5316e-04\n",
      "Epoch 32/50\n",
      "62/62 [==============================] - 3s 44ms/step - loss: 1.0967e-04 - val_loss: 2.7407e-04\n",
      "Epoch 33/50\n",
      "62/62 [==============================] - 3s 44ms/step - loss: 6.5535e-05 - val_loss: 2.8364e-04\n",
      "Epoch 34/50\n",
      "62/62 [==============================] - 3s 44ms/step - loss: 9.1725e-05 - val_loss: 5.4350e-04\n",
      "Epoch 35/50\n",
      "62/62 [==============================] - 3s 44ms/step - loss: 6.9290e-05 - val_loss: 2.3723e-04\n",
      "Epoch 36/50\n",
      "62/62 [==============================] - 3s 44ms/step - loss: 5.3271e-05 - val_loss: 2.6358e-04\n",
      "Epoch 37/50\n",
      "62/62 [==============================] - 3s 44ms/step - loss: 7.4942e-05 - val_loss: 3.2710e-04\n",
      "Epoch 38/50\n",
      "62/62 [==============================] - 3s 44ms/step - loss: 8.8082e-05 - val_loss: 2.3172e-04\n",
      "Epoch 39/50\n",
      "62/62 [==============================] - 3s 44ms/step - loss: 5.7342e-05 - val_loss: 3.3940e-04\n",
      "Epoch 40/50\n",
      "62/62 [==============================] - 3s 44ms/step - loss: 7.6051e-05 - val_loss: 9.4536e-04\n",
      "Epoch 41/50\n",
      "62/62 [==============================] - 3s 44ms/step - loss: 8.9564e-05 - val_loss: 4.2340e-04\n",
      "Epoch 42/50\n",
      "62/62 [==============================] - 3s 44ms/step - loss: 8.6788e-05 - val_loss: 3.4018e-04\n",
      "Epoch 43/50\n",
      "62/62 [==============================] - 3s 47ms/step - loss: 8.9185e-05 - val_loss: 2.0615e-04\n",
      "Epoch 44/50\n",
      "62/62 [==============================] - 3s 44ms/step - loss: 8.3885e-05 - val_loss: 2.4813e-04\n",
      "Epoch 45/50\n",
      "62/62 [==============================] - 3s 44ms/step - loss: 6.8724e-05 - val_loss: 2.2695e-04\n",
      "Epoch 46/50\n",
      "62/62 [==============================] - 3s 45ms/step - loss: 6.9782e-05 - val_loss: 2.4824e-04\n",
      "Epoch 47/50\n",
      "62/62 [==============================] - 3s 44ms/step - loss: 7.9585e-05 - val_loss: 1.9261e-04\n",
      "Epoch 48/50\n",
      "62/62 [==============================] - 3s 45ms/step - loss: 8.7356e-05 - val_loss: 2.2637e-04\n",
      "Epoch 49/50\n",
      "62/62 [==============================] - 3s 44ms/step - loss: 6.0302e-05 - val_loss: 3.9343e-04\n",
      "Epoch 50/50\n",
      "62/62 [==============================] - 3s 46ms/step - loss: 6.8069e-05 - val_loss: 2.2895e-04\n",
      "Wall time: 2min 27s\n",
      "Wall time: 1.39 s\n",
      "mse on train dataset = 0.0000639 mse on test dataset = 0.0002275\n"
     ]
    }
   ],
   "source": [
    "#train model\n",
    "#10-fold cross validation \n",
    "#batch_size=20, epochs=50\n",
    "%time model.fit(LUVtrain_x, LUVtrain_y,validation_split=0.1,batch_size=20, epochs=50)\n",
    "#predict\n",
    "%time LUV_predict = model.predict(LUVtest_x) \n",
    "#denormalize\n",
    "LUV_predict = scaler.inverse_transform(LUV_predict)\n",
    "#mse on train dataset and test dataset\n",
    "LUV_train_mse = model.evaluate(LUVtrain_x, LUVtrain_y, verbose=0)\n",
    "LUV_test_mse = model.evaluate(LUVtest_x, LUVtest_y, verbose=0)\n",
    "print('mse on train dataset = '\"%.7f\" % LUV_train_mse,\n",
    "      'mse on test dataset = '\"%.7f\" % LUV_test_mse)"
   ]
  },
  {
   "cell_type": "code",
   "execution_count": 42,
   "metadata": {},
   "outputs": [
    {
     "name": "stderr",
     "output_type": "stream",
     "text": [
      "<ipython-input-42-d65d2024f454>:4: SettingWithCopyWarning: \n",
      "A value is trying to be set on a copy of a slice from a DataFrame.\n",
      "Try using .loc[row_indexer,col_indexer] = value instead\n",
      "\n",
      "See the caveats in the documentation: https://pandas.pydata.org/pandas-docs/stable/user_guide/indexing.html#returning-a-view-versus-a-copy\n",
      "  LUV_predictplot['predict'] = LUV_predict\n"
     ]
    },
    {
     "data": {
      "image/png": "[encoded data removed]",
      "text/plain": [
       "<Figure size 720x576 with 1 Axes>"
      ]
     },
     "metadata": {
      "needs_background": "light"
     },
     "output_type": "display_data"
    }
   ],
   "source": [
    "#comparison plot\n",
    "LUV_oriplot = LUV\n",
    "LUV_predictplot = LUVtest[50:]\n",
    "LUV_predictplot['predict'] = LUV_predict\n",
    "\n",
    "plt.plot(LUV_oriplot['close'],'k')\n",
    "plt.plot(LUV_predictplot['predict'], 'r')\n",
    "plt.title('LUV predicted data vs. original data')\n",
    "plt.xlabel('Time')\n",
    "plt.ylabel('LUV closing stock price')\n",
    "plt.legend(['Original price',  'Predicted price'])\n",
    "plt.show()"
   ]
  },
  {
   "cell_type": "markdown",
   "metadata": {},
   "source": [
    "**AAL**"
   ]
  },
  {
   "cell_type": "code",
   "execution_count": 43,
   "metadata": {},
   "outputs": [],
   "source": [
    "#convert into timeseries\n",
    "AALtrain_x=[]\n",
    "AALtrain_y=[]\n",
    "for i in range(50,len(AALtrain_data)):\n",
    "    AALtrain_x.append(AALtrain_data[i-50:i,0])\n",
    "    AALtrain_y.append(AALtrain_data[i,0])\n",
    "AALtrain_x=np.array(AALtrain_x)\n",
    "AALtrain_y=np.array(AALtrain_y)\n",
    "#reshape data to(samples, features, time stemps)\n",
    "AALtrain_x = AALtrain_x.reshape(AALtrain_x.shape[0],AALtrain_x.shape[1],1)\n",
    "\n",
    "AALtest_x = []\n",
    "AALtest_y = AALtest_data[50:]\n",
    "for i in range(50,len(AALtest_data)):\n",
    "    AALtest_x.append(AALtest_data[i-50:i,0])\n",
    "AALtest_x = np.array(AALtest_x)\n",
    "#reshape data to(samples, features, time stemps)\n",
    "AALtest_x = AALtest_x.reshape(AALtest_x.shape[0],AALtest_x.shape[1],1)"
   ]
  },
  {
   "cell_type": "code",
   "execution_count": 44,
   "metadata": {},
   "outputs": [],
   "source": [
    "#define LSTM model\n",
    "model = Sequential()\n",
    "#80 LSTM units\n",
    "model.add(LSTM(80,input_shape=(AALtrain_x.shape[1],1), return_sequences=True,))\n",
    "model.add(Dropout(0.2))\n",
    "model.add(LSTM(80, return_sequences=False))\n",
    "#add Dense layer, output 1 dimension\n",
    "model.add(Dense(1))\n",
    "#evaluating based on mean square error (mse), use adadelta to optimize\n",
    "model.compile(loss='mse',optimizer='adam')"
   ]
  },
  {
   "cell_type": "code",
   "execution_count": 45,
   "metadata": {},
   "outputs": [
    {
     "name": "stdout",
     "output_type": "stream",
     "text": [
      "Epoch 1/50\n",
      "62/62 [==============================] - 6s 90ms/step - loss: 0.0043 - val_loss: 0.0033\n",
      "Epoch 2/50\n",
      "62/62 [==============================] - 3s 55ms/step - loss: 4.3675e-04 - val_loss: 0.0010\n",
      "Epoch 3/50\n",
      "62/62 [==============================] - 4s 57ms/step - loss: 3.8602e-04 - val_loss: 0.0021\n",
      "Epoch 4/50\n",
      "62/62 [==============================] - 4s 57ms/step - loss: 3.4165e-04 - val_loss: 0.0011\n",
      "Epoch 5/50\n",
      "62/62 [==============================] - 3s 55ms/step - loss: 3.1738e-04 - val_loss: 0.0010\n",
      "Epoch 6/50\n",
      "62/62 [==============================] - 3s 55ms/step - loss: 3.2610e-04 - val_loss: 0.0011\n",
      "Epoch 7/50\n",
      "62/62 [==============================] - 3s 55ms/step - loss: 3.9416e-04 - val_loss: 0.0013\n",
      "Epoch 8/50\n",
      "62/62 [==============================] - 3s 56ms/step - loss: 2.9021e-04 - val_loss: 9.9474e-04\n",
      "Epoch 9/50\n",
      "62/62 [==============================] - 3s 55ms/step - loss: 3.3658e-04 - val_loss: 9.0025e-04\n",
      "Epoch 10/50\n",
      "62/62 [==============================] - 3s 52ms/step - loss: 2.7834e-04 - val_loss: 0.0011\n",
      "Epoch 11/50\n",
      "62/62 [==============================] - 3s 50ms/step - loss: 3.4364e-04 - val_loss: 8.6948e-04\n",
      "Epoch 12/50\n",
      "62/62 [==============================] - 3s 49ms/step - loss: 2.8139e-04 - val_loss: 0.0022\n",
      "Epoch 13/50\n",
      "62/62 [==============================] - 3s 51ms/step - loss: 2.9022e-04 - val_loss: 8.8066e-04\n",
      "Epoch 14/50\n",
      "62/62 [==============================] - 3s 54ms/step - loss: 2.9167e-04 - val_loss: 0.0010\n",
      "Epoch 15/50\n",
      "62/62 [==============================] - 3s 53ms/step - loss: 2.8887e-04 - val_loss: 8.0741e-04\n",
      "Epoch 16/50\n",
      "62/62 [==============================] - 3s 54ms/step - loss: 2.3934e-04 - val_loss: 0.0017\n",
      "Epoch 17/50\n",
      "62/62 [==============================] - 3s 55ms/step - loss: 2.8140e-04 - val_loss: 7.7341e-04\n",
      "Epoch 18/50\n",
      "62/62 [==============================] - 3s 53ms/step - loss: 2.5120e-04 - val_loss: 7.9418e-04\n",
      "Epoch 19/50\n",
      "62/62 [==============================] - 3s 56ms/step - loss: 2.7749e-04 - val_loss: 7.2577e-04\n",
      "Epoch 20/50\n",
      "62/62 [==============================] - 3s 52ms/step - loss: 2.6554e-04 - val_loss: 8.4406e-04\n",
      "Epoch 21/50\n",
      "62/62 [==============================] - 3s 52ms/step - loss: 2.9431e-04 - val_loss: 9.3590e-04\n",
      "Epoch 22/50\n",
      "62/62 [==============================] - 3s 52ms/step - loss: 2.6615e-04 - val_loss: 6.3693e-04\n",
      "Epoch 23/50\n",
      "62/62 [==============================] - 3s 48ms/step - loss: 2.2540e-04 - val_loss: 6.9308e-04\n",
      "Epoch 24/50\n",
      "62/62 [==============================] - 3s 48ms/step - loss: 2.4799e-04 - val_loss: 7.0872e-04\n",
      "Epoch 25/50\n",
      "62/62 [==============================] - 3s 53ms/step - loss: 2.2376e-04 - val_loss: 6.2444e-04\n",
      "Epoch 26/50\n",
      "62/62 [==============================] - 3s 54ms/step - loss: 2.0375e-04 - val_loss: 6.0074e-04\n",
      "Epoch 27/50\n",
      "62/62 [==============================] - 3s 52ms/step - loss: 2.2858e-04 - val_loss: 6.5085e-04\n",
      "Epoch 28/50\n",
      "62/62 [==============================] - 3s 52ms/step - loss: 2.0250e-04 - val_loss: 5.5746e-04\n",
      "Epoch 29/50\n",
      "62/62 [==============================] - 3s 55ms/step - loss: 2.2813e-04 - val_loss: 5.8562e-04\n",
      "Epoch 30/50\n",
      "62/62 [==============================] - 3s 56ms/step - loss: 2.0308e-04 - val_loss: 4.9153e-04\n",
      "Epoch 31/50\n",
      "62/62 [==============================] - 3s 54ms/step - loss: 1.5327e-04 - val_loss: 5.2994e-04\n",
      "Epoch 32/50\n",
      "62/62 [==============================] - 3s 55ms/step - loss: 1.9281e-04 - val_loss: 4.9458e-04\n",
      "Epoch 33/50\n",
      "62/62 [==============================] - 3s 51ms/step - loss: 1.9322e-04 - val_loss: 4.3703e-04\n",
      "Epoch 34/50\n",
      "62/62 [==============================] - 3s 51ms/step - loss: 1.9561e-04 - val_loss: 6.1333e-04\n",
      "Epoch 35/50\n",
      "62/62 [==============================] - 3s 54ms/step - loss: 1.6262e-04 - val_loss: 4.3326e-04\n",
      "Epoch 36/50\n",
      "62/62 [==============================] - 3s 51ms/step - loss: 1.4653e-04 - val_loss: 7.4118e-04\n",
      "Epoch 37/50\n",
      "62/62 [==============================] - 3s 51ms/step - loss: 2.2045e-04 - val_loss: 5.6075e-04\n",
      "Epoch 38/50\n",
      "62/62 [==============================] - 3s 51ms/step - loss: 1.6054e-04 - val_loss: 3.9207e-04\n",
      "Epoch 39/50\n",
      "62/62 [==============================] - 3s 49ms/step - loss: 2.0826e-04 - val_loss: 4.5339e-04\n",
      "Epoch 40/50\n",
      "62/62 [==============================] - 3s 53ms/step - loss: 1.4725e-04 - val_loss: 5.9519e-04\n",
      "Epoch 41/50\n",
      "62/62 [==============================] - 3s 51ms/step - loss: 1.3906e-04 - val_loss: 5.0372e-04\n",
      "Epoch 42/50\n",
      "62/62 [==============================] - 3s 51ms/step - loss: 1.9335e-04 - val_loss: 6.0167e-04\n",
      "Epoch 43/50\n",
      "62/62 [==============================] - 3s 52ms/step - loss: 1.5009e-04 - val_loss: 6.7647e-04\n",
      "Epoch 44/50\n",
      "62/62 [==============================] - 3s 49ms/step - loss: 1.7789e-04 - val_loss: 3.7387e-04\n",
      "Epoch 45/50\n",
      "62/62 [==============================] - 3s 53ms/step - loss: 1.6230e-04 - val_loss: 3.5418e-04\n",
      "Epoch 46/50\n",
      "62/62 [==============================] - 3s 55ms/step - loss: 1.6050e-04 - val_loss: 0.0012\n",
      "Epoch 47/50\n",
      "62/62 [==============================] - 3s 54ms/step - loss: 1.4742e-04 - val_loss: 3.4107e-04\n",
      "Epoch 48/50\n",
      "62/62 [==============================] - 3s 53ms/step - loss: 1.6040e-04 - val_loss: 3.3561e-04\n",
      "Epoch 49/50\n",
      "62/62 [==============================] - 3s 52ms/step - loss: 1.3831e-04 - val_loss: 4.2723e-04\n",
      "Epoch 50/50\n",
      "62/62 [==============================] - 3s 54ms/step - loss: 1.3241e-04 - val_loss: 4.3261e-04\n",
      "Wall time: 2min 54s\n",
      "Wall time: 1.54 s\n",
      "mse on train dataset = 0.0001537 mse on test dataset = 0.0002718\n"
     ]
    }
   ],
   "source": [
    "#train model\n",
    "#10-fold cross validation \n",
    "#batch_size=20, epochs=50\n",
    "%time model.fit(AALtrain_x, AALtrain_y,validation_split=0.1,batch_size=20, epochs=50)\n",
    "#predict\n",
    "%time AAL_predict = model.predict(AALtest_x) \n",
    "#denormalize\n",
    "AAL_predict = scaler.inverse_transform(AAL_predict)\n",
    "#mse on train dataset and test dataset\n",
    "AAL_train_mse = model.evaluate(AALtrain_x, AALtrain_y, verbose=0)\n",
    "AAL_test_mse = model.evaluate(AALtest_x, AALtest_y, verbose=0)\n",
    "print('mse on train dataset = '\"%.7f\" % AAL_train_mse,\n",
    "      'mse on test dataset = '\"%.7f\" % AAL_test_mse)"
   ]
  },
  {
   "cell_type": "code",
   "execution_count": 46,
   "metadata": {},
   "outputs": [
    {
     "name": "stderr",
     "output_type": "stream",
     "text": [
      "<ipython-input-46-8f63b463468c>:4: SettingWithCopyWarning: \n",
      "A value is trying to be set on a copy of a slice from a DataFrame.\n",
      "Try using .loc[row_indexer,col_indexer] = value instead\n",
      "\n",
      "See the caveats in the documentation: https://pandas.pydata.org/pandas-docs/stable/user_guide/indexing.html#returning-a-view-versus-a-copy\n",
      "  AAL_predictplot['predict'] = AAL_predict\n"
     ]
    },
    {
     "data": {
      "image/png": "[encoded data removed]",
      "text/plain": [
       "<Figure size 720x576 with 1 Axes>"
      ]
     },
     "metadata": {
      "needs_background": "light"
     },
     "output_type": "display_data"
    }
   ],
   "source": [
    "#comparison plot\n",
    "AAL_oriplot = AAL\n",
    "AAL_predictplot = AALtest[50:]\n",
    "AAL_predictplot['predict'] = AAL_predict\n",
    "\n",
    "plt.plot(AAL_oriplot['close'],'k')\n",
    "plt.plot(AAL_predictplot['predict'], 'r')\n",
    "plt.title('AAL predicted data vs. original data')\n",
    "plt.xlabel('Time')\n",
    "plt.ylabel('AAL closing stock price')\n",
    "plt.legend(['Original price',  'Predicted price'])\n",
    "plt.show()"
   ]
  },
  {
   "cell_type": "markdown",
   "metadata": {},
   "source": [
    "*Comparison of optimizers*"
   ]
  },
  {
   "cell_type": "code",
   "execution_count": null,
   "metadata": {},
   "outputs": [],
   "source": [
    "#compare the Mean Squared Error (MSE) of the models optimized by Adadelta, Adagrad and Adam, and chose Adam which had better performance. \n",
    "'''\n",
    "#Adadelta\n",
    "#define LSTM model\n",
    "model = Sequential()\n",
    "#80 LSTM units\n",
    "model.add(LSTM(80,input_shape=(AALtrain_x.shape[1],1), return_sequences=True,))\n",
    "model.add(Dropout(0.2))\n",
    "model.add(LSTM(80, return_sequences=False))\n",
    "#add Dense layer, output 1 dimension\n",
    "model.add(Dense(1))\n",
    "#evaluating based on mean square error (mse), use adadelta to optimize\n",
    "model.compile(loss='mse',optimizer='Adadelta')\n",
    "\n",
    "#train model\n",
    "#10-fold cross validation \n",
    "#batch_size=20, epochs=50\n",
    "model.fit(AALtrain_x, AALtrain_y,validation_split=0.1,batch_size=20, epochs=50)\n",
    "#predict\n",
    "AAL_predict = model.predict(AALtest_x) \n",
    "#denormalize\n",
    "AAL_predict = scaler.inverse_transform(AAL_predict)\n",
    "#mse on train dataset and test dataset\n",
    "AAL_train_mse = model.evaluate(AALtrain_x, AALtrain_y, verbose=0)\n",
    "AAL_test_mse = model.evaluate(AALtest_x, AALtest_y, verbose=0)\n",
    "print('mse on train dataset = '\"%.7f\" % AAL_train_mse,\n",
    "      'mse on test dataset = '\"%.7f\" % AAL_test_mse)\n",
    "'''\n",
    "'''\n",
    "#Adagrad\n",
    "#define LSTM model\n",
    "model = Sequential()\n",
    "#80 LSTM units\n",
    "model.add(LSTM(80,input_shape=(AALtrain_x.shape[1],1), return_sequences=True,))\n",
    "model.add(Dropout(0.2))\n",
    "model.add(LSTM(80, return_sequences=False))\n",
    "#add Dense layer, output 1 dimension\n",
    "model.add(Dense(1))\n",
    "#evaluating based on mean square error (mse), use adadelta to optimize\n",
    "model.compile(loss='mse',optimizer='Adagrad') \n",
    "\n",
    "#train model\n",
    "#10-fold cross validation \n",
    "#batch_size=20, epochs=50\n",
    "model.fit(AALtrain_x, AALtrain_y,validation_split=0.1,batch_size=20, epochs=50)\n",
    "#predict\n",
    "AAL_predict = model.predict(AALtest_x) \n",
    "#denormalize\n",
    "AAL_predict = scaler.inverse_transform(AAL_predict)\n",
    "#mse on train dataset and test dataset\n",
    "AAL_train_mse = model.evaluate(AALtrain_x, AALtrain_y, verbose=0)\n",
    "AAL_test_mse = model.evaluate(AALtest_x, AALtest_y, verbose=0)\n",
    "print('mse on train dataset = '\"%.7f\" % AAL_train_mse,\n",
    "      'mse on test dataset = '\"%.7f\" % AAL_test_mse)\n",
    "'''"
   ]
  }
 ],
 "metadata": {
  "kernelspec": {
   "display_name": "Python 3",
   "language": "python",
   "name": "python3"
  },
  "language_info": {
   "codemirror_mode": {
    "name": "ipython",
    "version": 3
   },
   "file_extension": ".py",
   "mimetype": "text/x-python",
   "name": "python",
   "nbconvert_exporter": "python",
   "pygments_lexer": "ipython3",
   "version": "3.8.3"
  }
 },
 "nbformat": 4,
 "nbformat_minor": 4
}
